{
 "cells": [
  {
   "cell_type": "code",
   "execution_count": 42,
   "metadata": {},
   "outputs": [
    {
     "name": "stdout",
     "output_type": "stream",
     "text": [
      "Do ye like yer drinks strong?\n"
     ]
    },
    {
     "name": "stdin",
     "output_type": "stream",
     "text": [
      " yes\n"
     ]
    },
    {
     "name": "stdout",
     "output_type": "stream",
     "text": [
      "Recommended drink for you: splash of gin\n"
     ]
    }
   ],
   "source": [
    "import random \n",
    "def drink_suggestion(question, ingredient):\n",
    "    for i in range(len(question)):\n",
    "        ques = list(list(questions.items())[i])\n",
    "        print(ques[1])\n",
    "        customer_input = input()\n",
    "        if customer_input.lower() == 'yes':\n",
    "            list_ingredient = ingredient[ques[0]]\n",
    "            print('Recommended drink for you: ' + str(random.choices(list(list_ingredient))[0]))\n",
    "            break\n",
    "            \n",
    "questions = {\n",
    "    \"strong\": \"Do ye like yer drinks strong?\",\n",
    "    \"salty\": \"Do ye like it with a salty tang?\",\n",
    "    \"bitter\": \"Are ye a lubber who likes it bitter?\",\n",
    "    \"sweet\": \"Would ye like a bit of sweetness with yer poison?\",\n",
    "    \"fruity\": \"Are ye one for a fruity finish?\",\n",
    "    }\n",
    "\n",
    "ingredients = {\n",
    "    \"strong\": [\"glug of rum\", \"slug of whisky\", \"splash of gin\"],\n",
    "    \"salty\": [\"olive on a stick\", \"salt-dusted rim\", \"rasher of bacon\"],\n",
    "    \"bitter\": [\"shake of bitters\", \"splash of tonic\", \"twist of lemon peel\"],\n",
    "    \"sweet\": [\"sugar cube\", \"spoonful of honey\", \"spash of cola\"],\n",
    "    \"fruity\": [\"slice of orange\", \"dash of cassis\", \"cherry on top\"],\n",
    "    }\n",
    "drink_suggestion(questions, ingredients)"
   ]
  },
  {
   "cell_type": "raw",
   "metadata": {},
   "source": []
  },
  {
   "cell_type": "code",
   "execution_count": null,
   "metadata": {},
   "outputs": [],
   "source": []
  },
  {
   "cell_type": "code",
   "execution_count": null,
   "metadata": {},
   "outputs": [],
   "source": []
  },
  {
   "cell_type": "code",
   "execution_count": null,
   "metadata": {},
   "outputs": [],
   "source": []
  }
 ],
 "metadata": {
  "kernelspec": {
   "display_name": "Python 3",
   "language": "python",
   "name": "python3"
  },
  "language_info": {
   "codemirror_mode": {
    "name": "ipython",
    "version": 3
   },
   "file_extension": ".py",
   "mimetype": "text/x-python",
   "name": "python",
   "nbconvert_exporter": "python",
   "pygments_lexer": "ipython3",
   "version": "3.8.3"
  }
 },
 "nbformat": 4,
 "nbformat_minor": 4
}
