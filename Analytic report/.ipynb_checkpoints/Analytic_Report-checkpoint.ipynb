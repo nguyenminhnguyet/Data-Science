{
 "cells": [
  {
   "cell_type": "code",
   "execution_count": 301,
   "metadata": {},
   "outputs": [],
   "source": [
    "import pandas as pd #data frames (for storing data)\n",
    "import numpy as np #scientific computing\n",
    "import itertools\n",
    "import scipy.stats as stats\n",
    "\n",
    "#matplotlib for plotting\n",
    "import matplotlib.pyplot as plt\n",
    "from matplotlib import gridspec\n",
    "import matplotlib.ticker as mtick #for percentage ticks\n",
    "import seaborn as sns\n",
    "\n",
    "#sklearn for modeling\n",
    "from sklearn import tree\n",
    "from sklearn.tree import DecisionTreeClassifier #Decision Tree algorithm\n",
    "from sklearn.model_selection import train_test_split #Data split function\n",
    "from sklearn.preprocessing import LabelEncoder #OneHotEncoding"
   ]
  },
  {
   "cell_type": "code",
   "execution_count": 278,
   "metadata": {},
   "outputs": [
    {
     "data": {
      "text/html": [
       "<div>\n",
       "<style scoped>\n",
       "    .dataframe tbody tr th:only-of-type {\n",
       "        vertical-align: middle;\n",
       "    }\n",
       "\n",
       "    .dataframe tbody tr th {\n",
       "        vertical-align: top;\n",
       "    }\n",
       "\n",
       "    .dataframe thead th {\n",
       "        text-align: right;\n",
       "    }\n",
       "</style>\n",
       "<table border=\"1\" class=\"dataframe\">\n",
       "  <thead>\n",
       "    <tr style=\"text-align: right;\">\n",
       "      <th></th>\n",
       "      <th>Age</th>\n",
       "      <th>Attrition</th>\n",
       "      <th>BusinessTravel</th>\n",
       "      <th>DailyRate</th>\n",
       "      <th>Department</th>\n",
       "      <th>DistanceFromHome</th>\n",
       "      <th>Education</th>\n",
       "      <th>EducationField</th>\n",
       "      <th>EmployeeCount</th>\n",
       "      <th>EmployeeNumber</th>\n",
       "      <th>...</th>\n",
       "      <th>RelationshipSatisfaction</th>\n",
       "      <th>StandardHours</th>\n",
       "      <th>StockOptionLevel</th>\n",
       "      <th>TotalWorkingYears</th>\n",
       "      <th>TrainingTimesLastYear</th>\n",
       "      <th>WorkLifeBalance</th>\n",
       "      <th>YearsAtCompany</th>\n",
       "      <th>YearsInCurrentRole</th>\n",
       "      <th>YearsSinceLastPromotion</th>\n",
       "      <th>YearsWithCurrManager</th>\n",
       "    </tr>\n",
       "  </thead>\n",
       "  <tbody>\n",
       "    <tr>\n",
       "      <th>0</th>\n",
       "      <td>41</td>\n",
       "      <td>Yes</td>\n",
       "      <td>Travel_Rarely</td>\n",
       "      <td>1102</td>\n",
       "      <td>Sales</td>\n",
       "      <td>1</td>\n",
       "      <td>2</td>\n",
       "      <td>Life Sciences</td>\n",
       "      <td>1</td>\n",
       "      <td>1</td>\n",
       "      <td>...</td>\n",
       "      <td>1</td>\n",
       "      <td>80</td>\n",
       "      <td>0</td>\n",
       "      <td>8</td>\n",
       "      <td>0</td>\n",
       "      <td>1</td>\n",
       "      <td>6</td>\n",
       "      <td>4</td>\n",
       "      <td>0</td>\n",
       "      <td>5</td>\n",
       "    </tr>\n",
       "    <tr>\n",
       "      <th>1</th>\n",
       "      <td>49</td>\n",
       "      <td>No</td>\n",
       "      <td>Travel_Frequently</td>\n",
       "      <td>279</td>\n",
       "      <td>Research &amp; Development</td>\n",
       "      <td>8</td>\n",
       "      <td>1</td>\n",
       "      <td>Life Sciences</td>\n",
       "      <td>1</td>\n",
       "      <td>2</td>\n",
       "      <td>...</td>\n",
       "      <td>4</td>\n",
       "      <td>80</td>\n",
       "      <td>1</td>\n",
       "      <td>10</td>\n",
       "      <td>3</td>\n",
       "      <td>3</td>\n",
       "      <td>10</td>\n",
       "      <td>7</td>\n",
       "      <td>1</td>\n",
       "      <td>7</td>\n",
       "    </tr>\n",
       "    <tr>\n",
       "      <th>2</th>\n",
       "      <td>37</td>\n",
       "      <td>Yes</td>\n",
       "      <td>Travel_Rarely</td>\n",
       "      <td>1373</td>\n",
       "      <td>Research &amp; Development</td>\n",
       "      <td>2</td>\n",
       "      <td>2</td>\n",
       "      <td>Other</td>\n",
       "      <td>1</td>\n",
       "      <td>4</td>\n",
       "      <td>...</td>\n",
       "      <td>2</td>\n",
       "      <td>80</td>\n",
       "      <td>0</td>\n",
       "      <td>7</td>\n",
       "      <td>3</td>\n",
       "      <td>3</td>\n",
       "      <td>0</td>\n",
       "      <td>0</td>\n",
       "      <td>0</td>\n",
       "      <td>0</td>\n",
       "    </tr>\n",
       "    <tr>\n",
       "      <th>3</th>\n",
       "      <td>33</td>\n",
       "      <td>No</td>\n",
       "      <td>Travel_Frequently</td>\n",
       "      <td>1392</td>\n",
       "      <td>Research &amp; Development</td>\n",
       "      <td>3</td>\n",
       "      <td>4</td>\n",
       "      <td>Life Sciences</td>\n",
       "      <td>1</td>\n",
       "      <td>5</td>\n",
       "      <td>...</td>\n",
       "      <td>3</td>\n",
       "      <td>80</td>\n",
       "      <td>0</td>\n",
       "      <td>8</td>\n",
       "      <td>3</td>\n",
       "      <td>3</td>\n",
       "      <td>8</td>\n",
       "      <td>7</td>\n",
       "      <td>3</td>\n",
       "      <td>0</td>\n",
       "    </tr>\n",
       "    <tr>\n",
       "      <th>4</th>\n",
       "      <td>27</td>\n",
       "      <td>No</td>\n",
       "      <td>Travel_Rarely</td>\n",
       "      <td>591</td>\n",
       "      <td>Research &amp; Development</td>\n",
       "      <td>2</td>\n",
       "      <td>1</td>\n",
       "      <td>Medical</td>\n",
       "      <td>1</td>\n",
       "      <td>7</td>\n",
       "      <td>...</td>\n",
       "      <td>4</td>\n",
       "      <td>80</td>\n",
       "      <td>1</td>\n",
       "      <td>6</td>\n",
       "      <td>3</td>\n",
       "      <td>3</td>\n",
       "      <td>2</td>\n",
       "      <td>2</td>\n",
       "      <td>2</td>\n",
       "      <td>2</td>\n",
       "    </tr>\n",
       "  </tbody>\n",
       "</table>\n",
       "<p>5 rows × 35 columns</p>\n",
       "</div>"
      ],
      "text/plain": [
       "   Age Attrition     BusinessTravel  DailyRate              Department  \\\n",
       "0   41       Yes      Travel_Rarely       1102                   Sales   \n",
       "1   49        No  Travel_Frequently        279  Research & Development   \n",
       "2   37       Yes      Travel_Rarely       1373  Research & Development   \n",
       "3   33        No  Travel_Frequently       1392  Research & Development   \n",
       "4   27        No      Travel_Rarely        591  Research & Development   \n",
       "\n",
       "   DistanceFromHome  Education EducationField  EmployeeCount  EmployeeNumber  \\\n",
       "0                 1          2  Life Sciences              1               1   \n",
       "1                 8          1  Life Sciences              1               2   \n",
       "2                 2          2          Other              1               4   \n",
       "3                 3          4  Life Sciences              1               5   \n",
       "4                 2          1        Medical              1               7   \n",
       "\n",
       "   ...  RelationshipSatisfaction StandardHours  StockOptionLevel  \\\n",
       "0  ...                         1            80                 0   \n",
       "1  ...                         4            80                 1   \n",
       "2  ...                         2            80                 0   \n",
       "3  ...                         3            80                 0   \n",
       "4  ...                         4            80                 1   \n",
       "\n",
       "   TotalWorkingYears  TrainingTimesLastYear WorkLifeBalance  YearsAtCompany  \\\n",
       "0                  8                      0               1               6   \n",
       "1                 10                      3               3              10   \n",
       "2                  7                      3               3               0   \n",
       "3                  8                      3               3               8   \n",
       "4                  6                      3               3               2   \n",
       "\n",
       "  YearsInCurrentRole  YearsSinceLastPromotion  YearsWithCurrManager  \n",
       "0                  4                        0                     5  \n",
       "1                  7                        1                     7  \n",
       "2                  0                        0                     0  \n",
       "3                  7                        3                     0  \n",
       "4                  2                        2                     2  \n",
       "\n",
       "[5 rows x 35 columns]"
      ]
     },
     "execution_count": 278,
     "metadata": {},
     "output_type": "execute_result"
    }
   ],
   "source": [
    "data = pd.read_csv('Data-Science/Analytic report/Employee_Attrition.csv')\n",
    "data.head()"
   ]
  },
  {
   "cell_type": "markdown",
   "metadata": {},
   "source": [
    "## Exploratory Data Analysis (EDA)"
   ]
  },
  {
   "cell_type": "code",
   "execution_count": 279,
   "metadata": {},
   "outputs": [
    {
     "name": "stdout",
     "output_type": "stream",
     "text": [
      "<class 'pandas.core.frame.DataFrame'>\n",
      "RangeIndex: 1470 entries, 0 to 1469\n",
      "Data columns (total 35 columns):\n",
      " #   Column                    Non-Null Count  Dtype \n",
      "---  ------                    --------------  ----- \n",
      " 0   Age                       1470 non-null   int64 \n",
      " 1   Attrition                 1470 non-null   object\n",
      " 2   BusinessTravel            1470 non-null   object\n",
      " 3   DailyRate                 1470 non-null   int64 \n",
      " 4   Department                1470 non-null   object\n",
      " 5   DistanceFromHome          1470 non-null   int64 \n",
      " 6   Education                 1470 non-null   int64 \n",
      " 7   EducationField            1470 non-null   object\n",
      " 8   EmployeeCount             1470 non-null   int64 \n",
      " 9   EmployeeNumber            1470 non-null   int64 \n",
      " 10  EnvironmentSatisfaction   1470 non-null   int64 \n",
      " 11  Gender                    1470 non-null   object\n",
      " 12  HourlyRate                1470 non-null   int64 \n",
      " 13  JobInvolvement            1470 non-null   int64 \n",
      " 14  JobLevel                  1470 non-null   int64 \n",
      " 15  JobRole                   1470 non-null   object\n",
      " 16  JobSatisfaction           1470 non-null   int64 \n",
      " 17  MaritalStatus             1470 non-null   object\n",
      " 18  MonthlyIncome             1470 non-null   int64 \n",
      " 19  MonthlyRate               1470 non-null   int64 \n",
      " 20  NumCompaniesWorked        1470 non-null   int64 \n",
      " 21  Over18                    1470 non-null   object\n",
      " 22  OverTime                  1470 non-null   object\n",
      " 23  PercentSalaryHike         1470 non-null   int64 \n",
      " 24  PerformanceRating         1470 non-null   int64 \n",
      " 25  RelationshipSatisfaction  1470 non-null   int64 \n",
      " 26  StandardHours             1470 non-null   int64 \n",
      " 27  StockOptionLevel          1470 non-null   int64 \n",
      " 28  TotalWorkingYears         1470 non-null   int64 \n",
      " 29  TrainingTimesLastYear     1470 non-null   int64 \n",
      " 30  WorkLifeBalance           1470 non-null   int64 \n",
      " 31  YearsAtCompany            1470 non-null   int64 \n",
      " 32  YearsInCurrentRole        1470 non-null   int64 \n",
      " 33  YearsSinceLastPromotion   1470 non-null   int64 \n",
      " 34  YearsWithCurrManager      1470 non-null   int64 \n",
      "dtypes: int64(26), object(9)\n",
      "memory usage: 402.1+ KB\n"
     ]
    }
   ],
   "source": [
    "data.info()"
   ]
  },
  {
   "cell_type": "code",
   "execution_count": 280,
   "metadata": {},
   "outputs": [
    {
     "data": {
      "text/html": [
       "<div>\n",
       "<style scoped>\n",
       "    .dataframe tbody tr th:only-of-type {\n",
       "        vertical-align: middle;\n",
       "    }\n",
       "\n",
       "    .dataframe tbody tr th {\n",
       "        vertical-align: top;\n",
       "    }\n",
       "\n",
       "    .dataframe thead th {\n",
       "        text-align: right;\n",
       "    }\n",
       "</style>\n",
       "<table border=\"1\" class=\"dataframe\">\n",
       "  <thead>\n",
       "    <tr style=\"text-align: right;\">\n",
       "      <th></th>\n",
       "      <th>Age</th>\n",
       "      <th>DailyRate</th>\n",
       "      <th>DistanceFromHome</th>\n",
       "      <th>Education</th>\n",
       "      <th>EmployeeCount</th>\n",
       "      <th>EmployeeNumber</th>\n",
       "      <th>EnvironmentSatisfaction</th>\n",
       "      <th>HourlyRate</th>\n",
       "      <th>JobInvolvement</th>\n",
       "      <th>JobLevel</th>\n",
       "      <th>...</th>\n",
       "      <th>RelationshipSatisfaction</th>\n",
       "      <th>StandardHours</th>\n",
       "      <th>StockOptionLevel</th>\n",
       "      <th>TotalWorkingYears</th>\n",
       "      <th>TrainingTimesLastYear</th>\n",
       "      <th>WorkLifeBalance</th>\n",
       "      <th>YearsAtCompany</th>\n",
       "      <th>YearsInCurrentRole</th>\n",
       "      <th>YearsSinceLastPromotion</th>\n",
       "      <th>YearsWithCurrManager</th>\n",
       "    </tr>\n",
       "  </thead>\n",
       "  <tbody>\n",
       "    <tr>\n",
       "      <th>count</th>\n",
       "      <td>1470.0</td>\n",
       "      <td>1470.0</td>\n",
       "      <td>1470.0</td>\n",
       "      <td>1470.0</td>\n",
       "      <td>1470.0</td>\n",
       "      <td>1470.0</td>\n",
       "      <td>1470.0</td>\n",
       "      <td>1470.0</td>\n",
       "      <td>1470.0</td>\n",
       "      <td>1470.0</td>\n",
       "      <td>...</td>\n",
       "      <td>1470.0</td>\n",
       "      <td>1470.0</td>\n",
       "      <td>1470.0</td>\n",
       "      <td>1470.0</td>\n",
       "      <td>1470.0</td>\n",
       "      <td>1470.0</td>\n",
       "      <td>1470.0</td>\n",
       "      <td>1470.0</td>\n",
       "      <td>1470.0</td>\n",
       "      <td>1470.0</td>\n",
       "    </tr>\n",
       "    <tr>\n",
       "      <th>mean</th>\n",
       "      <td>37.0</td>\n",
       "      <td>802.0</td>\n",
       "      <td>9.0</td>\n",
       "      <td>3.0</td>\n",
       "      <td>1.0</td>\n",
       "      <td>1025.0</td>\n",
       "      <td>3.0</td>\n",
       "      <td>66.0</td>\n",
       "      <td>3.0</td>\n",
       "      <td>2.0</td>\n",
       "      <td>...</td>\n",
       "      <td>3.0</td>\n",
       "      <td>80.0</td>\n",
       "      <td>1.0</td>\n",
       "      <td>11.0</td>\n",
       "      <td>3.0</td>\n",
       "      <td>3.0</td>\n",
       "      <td>7.0</td>\n",
       "      <td>4.0</td>\n",
       "      <td>2.0</td>\n",
       "      <td>4.0</td>\n",
       "    </tr>\n",
       "    <tr>\n",
       "      <th>std</th>\n",
       "      <td>9.0</td>\n",
       "      <td>404.0</td>\n",
       "      <td>8.0</td>\n",
       "      <td>1.0</td>\n",
       "      <td>0.0</td>\n",
       "      <td>602.0</td>\n",
       "      <td>1.0</td>\n",
       "      <td>20.0</td>\n",
       "      <td>1.0</td>\n",
       "      <td>1.0</td>\n",
       "      <td>...</td>\n",
       "      <td>1.0</td>\n",
       "      <td>0.0</td>\n",
       "      <td>1.0</td>\n",
       "      <td>8.0</td>\n",
       "      <td>1.0</td>\n",
       "      <td>1.0</td>\n",
       "      <td>6.0</td>\n",
       "      <td>4.0</td>\n",
       "      <td>3.0</td>\n",
       "      <td>4.0</td>\n",
       "    </tr>\n",
       "    <tr>\n",
       "      <th>min</th>\n",
       "      <td>18.0</td>\n",
       "      <td>102.0</td>\n",
       "      <td>1.0</td>\n",
       "      <td>1.0</td>\n",
       "      <td>1.0</td>\n",
       "      <td>1.0</td>\n",
       "      <td>1.0</td>\n",
       "      <td>30.0</td>\n",
       "      <td>1.0</td>\n",
       "      <td>1.0</td>\n",
       "      <td>...</td>\n",
       "      <td>1.0</td>\n",
       "      <td>80.0</td>\n",
       "      <td>0.0</td>\n",
       "      <td>0.0</td>\n",
       "      <td>0.0</td>\n",
       "      <td>1.0</td>\n",
       "      <td>0.0</td>\n",
       "      <td>0.0</td>\n",
       "      <td>0.0</td>\n",
       "      <td>0.0</td>\n",
       "    </tr>\n",
       "    <tr>\n",
       "      <th>25%</th>\n",
       "      <td>30.0</td>\n",
       "      <td>465.0</td>\n",
       "      <td>2.0</td>\n",
       "      <td>2.0</td>\n",
       "      <td>1.0</td>\n",
       "      <td>491.0</td>\n",
       "      <td>2.0</td>\n",
       "      <td>48.0</td>\n",
       "      <td>2.0</td>\n",
       "      <td>1.0</td>\n",
       "      <td>...</td>\n",
       "      <td>2.0</td>\n",
       "      <td>80.0</td>\n",
       "      <td>0.0</td>\n",
       "      <td>6.0</td>\n",
       "      <td>2.0</td>\n",
       "      <td>2.0</td>\n",
       "      <td>3.0</td>\n",
       "      <td>2.0</td>\n",
       "      <td>0.0</td>\n",
       "      <td>2.0</td>\n",
       "    </tr>\n",
       "    <tr>\n",
       "      <th>50%</th>\n",
       "      <td>36.0</td>\n",
       "      <td>802.0</td>\n",
       "      <td>7.0</td>\n",
       "      <td>3.0</td>\n",
       "      <td>1.0</td>\n",
       "      <td>1020.0</td>\n",
       "      <td>3.0</td>\n",
       "      <td>66.0</td>\n",
       "      <td>3.0</td>\n",
       "      <td>2.0</td>\n",
       "      <td>...</td>\n",
       "      <td>3.0</td>\n",
       "      <td>80.0</td>\n",
       "      <td>1.0</td>\n",
       "      <td>10.0</td>\n",
       "      <td>3.0</td>\n",
       "      <td>3.0</td>\n",
       "      <td>5.0</td>\n",
       "      <td>3.0</td>\n",
       "      <td>1.0</td>\n",
       "      <td>3.0</td>\n",
       "    </tr>\n",
       "    <tr>\n",
       "      <th>75%</th>\n",
       "      <td>43.0</td>\n",
       "      <td>1157.0</td>\n",
       "      <td>14.0</td>\n",
       "      <td>4.0</td>\n",
       "      <td>1.0</td>\n",
       "      <td>1556.0</td>\n",
       "      <td>4.0</td>\n",
       "      <td>84.0</td>\n",
       "      <td>3.0</td>\n",
       "      <td>3.0</td>\n",
       "      <td>...</td>\n",
       "      <td>4.0</td>\n",
       "      <td>80.0</td>\n",
       "      <td>1.0</td>\n",
       "      <td>15.0</td>\n",
       "      <td>3.0</td>\n",
       "      <td>3.0</td>\n",
       "      <td>9.0</td>\n",
       "      <td>7.0</td>\n",
       "      <td>3.0</td>\n",
       "      <td>7.0</td>\n",
       "    </tr>\n",
       "    <tr>\n",
       "      <th>max</th>\n",
       "      <td>60.0</td>\n",
       "      <td>1499.0</td>\n",
       "      <td>29.0</td>\n",
       "      <td>5.0</td>\n",
       "      <td>1.0</td>\n",
       "      <td>2068.0</td>\n",
       "      <td>4.0</td>\n",
       "      <td>100.0</td>\n",
       "      <td>4.0</td>\n",
       "      <td>5.0</td>\n",
       "      <td>...</td>\n",
       "      <td>4.0</td>\n",
       "      <td>80.0</td>\n",
       "      <td>3.0</td>\n",
       "      <td>40.0</td>\n",
       "      <td>6.0</td>\n",
       "      <td>4.0</td>\n",
       "      <td>40.0</td>\n",
       "      <td>18.0</td>\n",
       "      <td>15.0</td>\n",
       "      <td>17.0</td>\n",
       "    </tr>\n",
       "  </tbody>\n",
       "</table>\n",
       "<p>8 rows × 26 columns</p>\n",
       "</div>"
      ],
      "text/plain": [
       "          Age  DailyRate  DistanceFromHome  Education  EmployeeCount  \\\n",
       "count  1470.0     1470.0            1470.0     1470.0         1470.0   \n",
       "mean     37.0      802.0               9.0        3.0            1.0   \n",
       "std       9.0      404.0               8.0        1.0            0.0   \n",
       "min      18.0      102.0               1.0        1.0            1.0   \n",
       "25%      30.0      465.0               2.0        2.0            1.0   \n",
       "50%      36.0      802.0               7.0        3.0            1.0   \n",
       "75%      43.0     1157.0              14.0        4.0            1.0   \n",
       "max      60.0     1499.0              29.0        5.0            1.0   \n",
       "\n",
       "       EmployeeNumber  EnvironmentSatisfaction  HourlyRate  JobInvolvement  \\\n",
       "count          1470.0                   1470.0      1470.0          1470.0   \n",
       "mean           1025.0                      3.0        66.0             3.0   \n",
       "std             602.0                      1.0        20.0             1.0   \n",
       "min               1.0                      1.0        30.0             1.0   \n",
       "25%             491.0                      2.0        48.0             2.0   \n",
       "50%            1020.0                      3.0        66.0             3.0   \n",
       "75%            1556.0                      4.0        84.0             3.0   \n",
       "max            2068.0                      4.0       100.0             4.0   \n",
       "\n",
       "       JobLevel  ...  RelationshipSatisfaction  StandardHours  \\\n",
       "count    1470.0  ...                    1470.0         1470.0   \n",
       "mean        2.0  ...                       3.0           80.0   \n",
       "std         1.0  ...                       1.0            0.0   \n",
       "min         1.0  ...                       1.0           80.0   \n",
       "25%         1.0  ...                       2.0           80.0   \n",
       "50%         2.0  ...                       3.0           80.0   \n",
       "75%         3.0  ...                       4.0           80.0   \n",
       "max         5.0  ...                       4.0           80.0   \n",
       "\n",
       "       StockOptionLevel  TotalWorkingYears  TrainingTimesLastYear  \\\n",
       "count            1470.0             1470.0                 1470.0   \n",
       "mean                1.0               11.0                    3.0   \n",
       "std                 1.0                8.0                    1.0   \n",
       "min                 0.0                0.0                    0.0   \n",
       "25%                 0.0                6.0                    2.0   \n",
       "50%                 1.0               10.0                    3.0   \n",
       "75%                 1.0               15.0                    3.0   \n",
       "max                 3.0               40.0                    6.0   \n",
       "\n",
       "       WorkLifeBalance  YearsAtCompany  YearsInCurrentRole  \\\n",
       "count           1470.0          1470.0              1470.0   \n",
       "mean               3.0             7.0                 4.0   \n",
       "std                1.0             6.0                 4.0   \n",
       "min                1.0             0.0                 0.0   \n",
       "25%                2.0             3.0                 2.0   \n",
       "50%                3.0             5.0                 3.0   \n",
       "75%                3.0             9.0                 7.0   \n",
       "max                4.0            40.0                18.0   \n",
       "\n",
       "       YearsSinceLastPromotion  YearsWithCurrManager  \n",
       "count                   1470.0                1470.0  \n",
       "mean                       2.0                   4.0  \n",
       "std                        3.0                   4.0  \n",
       "min                        0.0                   0.0  \n",
       "25%                        0.0                   2.0  \n",
       "50%                        1.0                   3.0  \n",
       "75%                        3.0                   7.0  \n",
       "max                       15.0                  17.0  \n",
       "\n",
       "[8 rows x 26 columns]"
      ]
     },
     "execution_count": 280,
     "metadata": {},
     "output_type": "execute_result"
    }
   ],
   "source": [
    "data.describe().round()"
   ]
  },
  {
   "cell_type": "raw",
   "metadata": {},
   "source": [
    "We observe:\n",
    "- No missing values (all variables show 1100 entries)\n",
    "- no NaN values \n",
    "- mostly int and float values, but also some object/strings (these require further attention)"
   ]
  },
  {
   "cell_type": "markdown",
   "metadata": {},
   "source": [
    "## Data visualization\n",
    "\n",
    "We will generate several plots to gain a better understanding of the data and its distribution. \n",
    "\n",
    "Attrition vs. No Attrition: absolute & relative distribution:\n",
    "The first plot visually compares the distribution of attrition vs. no attrition cases. "
   ]
  },
  {
   "cell_type": "code",
   "execution_count": 281,
   "metadata": {},
   "outputs": [
    {
     "data": {
      "image/png": "[encoded data removed]",
      "text/plain": [
       "<Figure size 432x288 with 1 Axes>"
      ]
     },
     "metadata": {},
     "output_type": "display_data"
    }
   ],
   "source": [
    "vals = [data.Attrition[data.Attrition=='Yes'].count() , data.Attrition[data.Attrition=='No'].count()]\n",
    "label = [\"Yes\" , \"No\"]\n",
    "plt.pie(vals , labels=label , autopct = '%1.0f%%' , explode=(0 , 0.1));\n",
    "plt.title(\"Attrition  Percentage\");"
   ]
  },
  {
   "cell_type": "raw",
   "metadata": {},
   "source": [
    "We notice that attrition cases account for 16.1% of total observations while no-attrition cases account for 83.9%. "
   ]
  },
  {
   "cell_type": "code",
   "execution_count": 282,
   "metadata": {},
   "outputs": [],
   "source": [
    "data.drop(['Over18' , 'StandardHours' ,'EmployeeCount','EmployeeNumber' ] , inplace=True , axis=1)"
   ]
  },
  {
   "cell_type": "markdown",
   "metadata": {},
   "source": [
    "#### Attrition vs No Attrition cases by department\n",
    "Next we will plot attrition vs no attrition cases and group them by department"
   ]
  },
  {
   "cell_type": "code",
   "execution_count": 283,
   "metadata": {},
   "outputs": [
    {
     "data": {
      "image/png": "[encoded data removed]",
      "text/plain": [
       "<Figure size 864x360 with 2 Axes>"
      ]
     },
     "metadata": {
      "needs_background": "light"
     },
     "output_type": "display_data"
    }
   ],
   "source": [
    "#attrition by department\n",
    "fig = plt.figure(figsize=(12, 5)) #specify figure size\n",
    "\n",
    "#Absolute distribution\n",
    "plt.subplot(1, 2, 1)\n",
    "ax1 = data.groupby(['Department', 'Attrition'])['Attrition'].count().unstack().plot.bar(rot=30, ax=plt.gca(), width=0.7)\n",
    "plt.title('Attrition vs. No Attrition by Department:\\n Absolute distribution') \n",
    "#plot bar labels\n",
    "for p in ax1.patches:\n",
    "    ax1.annotate(str(p.get_height()), (p.get_x() * 1, p.get_height() * 0.6))\n",
    "\n",
    "#Relative distribution\n",
    "plt.subplot(1, 2, 2)\n",
    "ax2 = data.groupby(['Department','Attrition'])['Attrition'].size().groupby(level=0).apply(\n",
    "    lambda x: 100 * x / x.sum()).unstack().plot(kind='bar',stacked=True, rot=30, ax=plt.gca())\n",
    "plt.gca().yaxis.set_major_formatter(mtick.PercentFormatter())\n",
    "plt.legend(bbox_to_anchor=(1, 1))\n",
    "plt.title('Attrition vs. No Attrition by Department:\\n Relative distribution') \n",
    "\n",
    "#plot bar labels\n",
    "for p, q in zip(ax2.patches[0:5], ax2.patches[5:10]):\n",
    "    ax2.annotate(str(round(p.get_height(),1)) + '%', (p.get_x(), p.get_height()/2))\n",
    "    ax2.annotate(str(round(q.get_height(),1)) + '%', (q.get_x(), q.get_height()/2+p.get_height()))\n",
    "\n",
    "plt.tight_layout()\n",
    "plt.show()"
   ]
  },
  {
   "cell_type": "raw",
   "metadata": {},
   "source": [
    "We observe an almost equal distribution of attrition vs. no attrition cases amongst the 3 departments. Thus, the variable `Department` is probably not a good predictor for the \"attrition rate\" of a claim."
   ]
  },
  {
   "cell_type": "code",
   "execution_count": null,
   "metadata": {},
   "outputs": [],
   "source": []
  },
  {
   "cell_type": "code",
   "execution_count": 284,
   "metadata": {},
   "outputs": [
    {
     "data": {
      "image/png": "[encoded data removed]",
      "text/plain": [
       "<Figure size 864x360 with 2 Axes>"
      ]
     },
     "metadata": {
      "needs_background": "light"
     },
     "output_type": "display_data"
    }
   ],
   "source": [
    "#attrition by department\n",
    "fig = plt.figure(figsize=(12, 5)) #specify figure size\n",
    "\n",
    "#Absolute distribution\n",
    "plt.subplot(1, 2, 1)\n",
    "ax1 = data.groupby(['Department', 'Attrition'])['Attrition'].count().unstack().plot.bar(rot=30, ax=plt.gca(), width=0.7)\n",
    "plt.title('Attrition vs. No Attrition by Department:\\n Absolute distribution') \n",
    "#plot bar labels\n",
    "for p in ax1.patches:\n",
    "    ax1.annotate(str(p.get_height()), (p.get_x() * 1, p.get_height() * 0.6))\n",
    "\n",
    "#Relative distribution\n",
    "plt.subplot(1, 2, 2)\n",
    "ax2 = data.groupby(['Department','Attrition'])['Attrition'].size().groupby(level=0).apply(\n",
    "    lambda x: 100 * x / x.sum()).unstack().plot(kind='bar',stacked=True, rot=30, ax=plt.gca())\n",
    "plt.gca().yaxis.set_major_formatter(mtick.PercentFormatter())\n",
    "plt.legend(bbox_to_anchor=(1, 1))\n",
    "plt.title('Attrition vs. No Attrition by Department:\\n Relative distribution') \n",
    "\n",
    "#plot bar labels\n",
    "for p, q in zip(ax2.patches[0:5], ax2.patches[5:10]):\n",
    "    ax2.annotate(str(round(p.get_height(),1)) + '%', (p.get_x(), p.get_height()/2))\n",
    "    ax2.annotate(str(round(q.get_height(),1)) + '%', (q.get_x(), q.get_height()/2+p.get_height()))\n",
    "\n",
    "plt.tight_layout()\n",
    "plt.show()"
   ]
  },
  {
   "cell_type": "raw",
   "metadata": {},
   "source": [
    "We notice that there is no difference in attrition rate among departments; therefore, the factor department seems to play no role in the attrition rate"
   ]
  },
  {
   "cell_type": "markdown",
   "metadata": {},
   "source": [
    "#### Marital Status\n"
   ]
  },
  {
   "cell_type": "code",
   "execution_count": 285,
   "metadata": {},
   "outputs": [
    {
     "data": {
      "image/png": "[encoded data removed]",
      "text/plain": [
       "<Figure size 864x360 with 2 Axes>"
      ]
     },
     "metadata": {
      "needs_background": "light"
     },
     "output_type": "display_data"
    }
   ],
   "source": [
    "#attrition by marital status\n",
    "fig = plt.figure(figsize=(12, 5)) #specify figure size\n",
    "\n",
    "#Absolute distribution\n",
    "plt.subplot(1, 2, 1)\n",
    "ax1 = data.groupby(['MaritalStatus', 'Attrition'])['Attrition'].count().unstack().plot.bar(rot=30, ax=plt.gca(), width=0.7)\n",
    "plt.title('Attrition vs. No Attrition by Marital Status:\\n Absolute distribution') \n",
    "#plot bar labels\n",
    "for p in ax1.patches:\n",
    "    ax1.annotate(str(p.get_height()), (p.get_x() * 1, p.get_height() * 0.6))\n",
    "\n",
    "#Relative distribution\n",
    "plt.subplot(1, 2, 2)\n",
    "ax2 = data.groupby(['MaritalStatus','Attrition'])['Attrition'].size().groupby(level=0).apply(\n",
    "    lambda x: 100 * x / x.sum()).unstack().plot(kind='bar',stacked=True, rot=30, ax=plt.gca())\n",
    "plt.gca().yaxis.set_major_formatter(mtick.PercentFormatter())\n",
    "plt.legend(bbox_to_anchor=(1, 1))\n",
    "plt.title('Attrition vs. No Attrition by Marital Status:\\n Relative distribution') \n",
    "\n",
    "#plot bar labels\n",
    "for p, q in zip(ax2.patches[0:5], ax2.patches[5:10]):\n",
    "    ax2.annotate(str(round(p.get_height(),1)) + '%', (p.get_x(), p.get_height()/2))\n",
    "    ax2.annotate(str(round(q.get_height(),1)) + '%', (q.get_x(), q.get_height()/2+p.get_height()))\n",
    "\n",
    "plt.tight_layout()\n",
    "plt.show()"
   ]
  },
  {
   "cell_type": "raw",
   "metadata": {},
   "source": [
    "We can see here that employees with marital status 'single' seem to have higher rate of attrition than those from the other groups"
   ]
  },
  {
   "cell_type": "markdown",
   "metadata": {},
   "source": [
    "#### Daily rate\n",
    "Next, we plot the relative distribution of daily rate"
   ]
  },
  {
   "cell_type": "code",
   "execution_count": 286,
   "metadata": {},
   "outputs": [
    {
     "data": {
      "image/png": "[encoded data removed]",
      "text/plain": [
       "<Figure size 720x360 with 1 Axes>"
      ]
     },
     "metadata": {
      "needs_background": "light"
     },
     "output_type": "display_data"
    }
   ],
   "source": [
    "ax = data['DailyRate'].loc[data['Attrition'] == 'No'].plot.hist(bins=10, label='No Attrition', figsize = (10,5))\n",
    "ax = data['DailyRate'].loc[data['Attrition'] == 'Yes'].plot.hist(bins=10, label='Attrition')\n",
    "ax.set_xlabel('Daily Rate')\n",
    "ax.set_title('Relative daily-rate distribution')\n",
    "ax.legend();"
   ]
  },
  {
   "cell_type": "raw",
   "metadata": {},
   "source": [
    "We observe an almost equal distribution of attrition vs. no attrition cases amongst the daily-rate range. Thus, the variable `Daily Rate` is probably not a good predictor for the \"attrition rate\" of a claim."
   ]
  },
  {
   "cell_type": "markdown",
   "metadata": {},
   "source": [
    "#### Distance-from-home distribution\n",
    "\n",
    "Next, we plot the relative distribution of distance from home "
   ]
  },
  {
   "cell_type": "code",
   "execution_count": 287,
   "metadata": {},
   "outputs": [
    {
     "data": {
      "image/png": "[encoded data removed]",
      "text/plain": [
       "<Figure size 720x360 with 1 Axes>"
      ]
     },
     "metadata": {
      "needs_background": "light"
     },
     "output_type": "display_data"
    }
   ],
   "source": [
    "ax = data['DistanceFromHome'].loc[data['Attrition'] == 'No'].plot.hist(bins=10, label='No Attrition', figsize = (10,5))\n",
    "ax = data['DistanceFromHome'].loc[data['Attrition'] == 'Yes'].plot.hist(bins=10, label='Attrition')\n",
    "ax.set_xlabel('Distance from Home')\n",
    "ax.set_title('Relative distance-from-home distribution')\n",
    "ax.legend();"
   ]
  },
  {
   "cell_type": "markdown",
   "metadata": {},
   "source": [
    "Attrition cases seem to be reported more when the employee lives closer from home"
   ]
  },
  {
   "cell_type": "markdown",
   "metadata": {},
   "source": [
    "#### Age distribution\n",
    "Next, we will plot the relative distribution of age"
   ]
  },
  {
   "cell_type": "code",
   "execution_count": 288,
   "metadata": {},
   "outputs": [
    {
     "data": {
      "image/png": "[encoded data removed]",
      "text/plain": [
       "<Figure size 720x360 with 1 Axes>"
      ]
     },
     "metadata": {
      "needs_background": "light"
     },
     "output_type": "display_data"
    }
   ],
   "source": [
    "ax = data['Age'].loc[data['Attrition'] == 'No'].plot.hist(bins=10, label='No Attrition', figsize = (10,5))\n",
    "ax = data['Age'].loc[data['Attrition'] == 'Yes'].plot.hist(bins=10, label='Attrition')\n",
    "ax.set_xlabel('Age')\n",
    "ax.set_title('Relative age distribution')\n",
    "ax.legend();"
   ]
  },
  {
   "cell_type": "raw",
   "metadata": {},
   "source": [
    "We notice that employees from 18-37 seem to have higher rate of attrition than other age groups"
   ]
  },
  {
   "cell_type": "markdown",
   "metadata": {},
   "source": [
    "#### Attrition vs No Attrition cases by monthly income"
   ]
  },
  {
   "cell_type": "code",
   "execution_count": 289,
   "metadata": {},
   "outputs": [
    {
     "data": {
      "image/png": "[encoded data removed]",
      "text/plain": [
       "<Figure size 720x360 with 1 Axes>"
      ]
     },
     "metadata": {
      "needs_background": "light"
     },
     "output_type": "display_data"
    }
   ],
   "source": [
    "plt.figure(figsize=(10,5))\n",
    "sns.boxplot(y = 'MonthlyIncome' , x='Attrition' , data=data)\n",
    "plt.title(\"Monthly Income Vs Attrition\");"
   ]
  },
  {
   "cell_type": "raw",
   "metadata": {},
   "source": [
    "We can easily see from the plot that people with higher salary tend to leave the job"
   ]
  },
  {
   "cell_type": "markdown",
   "metadata": {},
   "source": [
    "## Attrition vs No Attrition cases by business travel's frequency\n",
    "Next we will plot attrition vs no attrition cases and group them by the travel's frequency"
   ]
  },
  {
   "cell_type": "code",
   "execution_count": 265,
   "metadata": {},
   "outputs": [
    {
     "data": {
      "image/png": "[encoded data removed]",
      "text/plain": [
       "<Figure size 864x360 with 2 Axes>"
      ]
     },
     "metadata": {
      "needs_background": "light"
     },
     "output_type": "display_data"
    }
   ],
   "source": [
    "#attrition by business-travel\n",
    "fig = plt.figure(figsize=(12, 5)) #specify figure size\n",
    "\n",
    "#Absolute distribution\n",
    "plt.subplot(1, 2, 1)\n",
    "ax1 = data.groupby(['BusinessTravel', 'Attrition'])['Attrition'].count().unstack().plot.bar(rot=30, ax=plt.gca(), width=0.7)\n",
    "plt.title('Attrition vs. No Attrition by Business Travel Frequency:\\n Absolute distribution') \n",
    "#plot bar labels\n",
    "for p in ax1.patches:\n",
    "    ax1.annotate(str(p.get_height()), (p.get_x() * 1, p.get_height() * 0.6))\n",
    "\n",
    "#Relative distribution\n",
    "plt.subplot(1, 2, 2)\n",
    "ax2 = data.groupby(['BusinessTravel','Attrition'])['Attrition'].size().groupby(level=0).apply(\n",
    "    lambda x: 100 * x / x.sum()).unstack().plot(kind='bar',stacked=True, rot=30, ax=plt.gca())\n",
    "plt.gca().yaxis.set_major_formatter(mtick.PercentFormatter())\n",
    "plt.legend(bbox_to_anchor=(1, 1))\n",
    "plt.title('Attrition vs. No Attrition by Business Travel Frequency:\\n Relative distribution') \n",
    "\n",
    "#plot bar labels\n",
    "for p, q in zip(ax2.patches[0:5], ax2.patches[5:10]):\n",
    "    ax2.annotate(str(round(p.get_height(),1)) + '%', (p.get_x(), p.get_height()/2))\n",
    "    ax2.annotate(str(round(q.get_height(),1)) + '%', (q.get_x(), q.get_height()/2+p.get_height()))\n",
    "\n",
    "plt.tight_layout()\n",
    "plt.show()"
   ]
  },
  {
   "cell_type": "raw",
   "metadata": {},
   "source": [
    "We see that employees who frequently have business trips have higher rate of attrition compared with those who never or rarely travel"
   ]
  },
  {
   "cell_type": "markdown",
   "metadata": {},
   "source": [
    "#### Attrition vs No Attrition cases by education\n",
    "Next we will plot attrition vs no attrition cases and group them by the level of education"
   ]
  },
  {
   "cell_type": "code",
   "execution_count": 266,
   "metadata": {},
   "outputs": [
    {
     "data": {
      "image/png": "[encoded data removed]",
      "text/plain": [
       "<Figure size 864x360 with 2 Axes>"
      ]
     },
     "metadata": {
      "needs_background": "light"
     },
     "output_type": "display_data"
    }
   ],
   "source": [
    "#attrition by business-travel\n",
    "fig = plt.figure(figsize=(12, 5)) #specify figure size\n",
    "\n",
    "#Absolute distribution\n",
    "plt.subplot(1, 2, 1)\n",
    "ax1 = data.groupby(['Education', 'Attrition'])['Attrition'].count().unstack().plot.bar(rot=30, ax=plt.gca(), width=0.7)\n",
    "plt.title('Attrition vs. No Attrition by Education:\\n Absolute distribution') \n",
    "#plot bar labels\n",
    "for p in ax1.patches:\n",
    "    ax1.annotate(str(p.get_height()), (p.get_x() * 1, p.get_height() * 0.6))\n",
    "\n",
    "#Relative distribution\n",
    "plt.subplot(1, 2, 2)\n",
    "ax2 = data.groupby(['Education','Attrition'])['Attrition'].size().groupby(level=0).apply(\n",
    "    lambda x: 100 * x / x.sum()).unstack().plot(kind='bar',stacked=True, rot=30, ax=plt.gca())\n",
    "plt.gca().yaxis.set_major_formatter(mtick.PercentFormatter())\n",
    "plt.legend(bbox_to_anchor=(1, 1))\n",
    "plt.title('Attrition vs. No Attrition by Education:\\n Relative distribution') \n",
    "\n",
    "#plot bar labels\n",
    "for p, q in zip(ax2.patches[0:5], ax2.patches[5:10]):\n",
    "    ax2.annotate(str(round(p.get_height(),1)) + '%', (p.get_x(), p.get_height()/2))\n",
    "    ax2.annotate(str(round(q.get_height(),1)) + '%', (q.get_x(), q.get_height()/2+p.get_height()))\n",
    "\n",
    "plt.tight_layout()\n",
    "plt.show()"
   ]
  },
  {
   "cell_type": "raw",
   "metadata": {},
   "source": [
    "Looking at the chart, we can see that education have little impact on the attrition rate"
   ]
  },
  {
   "cell_type": "markdown",
   "metadata": {},
   "source": [
    "#### Attrition vs No Attrition cases by education field\n",
    "Next we will plot attrition vs no attrition cases and group them by education field"
   ]
  },
  {
   "cell_type": "code",
   "execution_count": 267,
   "metadata": {},
   "outputs": [
    {
     "data": {
      "image/png": "[encoded data removed]",
      "text/plain": [
       "<Figure size 864x360 with 2 Axes>"
      ]
     },
     "metadata": {
      "needs_background": "light"
     },
     "output_type": "display_data"
    }
   ],
   "source": [
    "#attrition by education-field\n",
    "fig = plt.figure(figsize=(12, 5)) #specify figure size\n",
    "\n",
    "#Absolute distribution\n",
    "plt.subplot(1, 2, 1)\n",
    "ax1 = data.groupby(['EducationField', 'Attrition'])['Attrition'].count().unstack().plot.bar(rot=30, ax=plt.gca(), width=0.7)\n",
    "plt.title('Attrition vs. No Attrition by Education Field:\\n Absolute distribution') \n",
    "#plot bar labels\n",
    "for p in ax1.patches:\n",
    "    ax1.annotate(str(p.get_height()), (p.get_x() * 1, p.get_height() * 0.6))\n",
    "\n",
    "#Relative distribution\n",
    "plt.subplot(1, 2, 2)\n",
    "ax2 = data.groupby(['EducationField','Attrition'])['Attrition'].size().groupby(level=0).apply(\n",
    "    lambda x: 100 * x / x.sum()).unstack().plot(kind='bar',stacked=True, rot=30, ax=plt.gca())\n",
    "plt.gca().yaxis.set_major_formatter(mtick.PercentFormatter())\n",
    "plt.legend(bbox_to_anchor=(1, 1))\n",
    "plt.title('Attrition vs. No Attrition by Education Field:\\n Relative distribution') \n",
    "\n",
    "#plot bar labels\n",
    "for p, q in zip(ax2.patches[0:5], ax2.patches[5:10]):\n",
    "    ax2.annotate(str(round(p.get_height(),1)) + '%', (p.get_x(), p.get_height()/2))\n",
    "    ax2.annotate(str(round(q.get_height(),1)) + '%', (q.get_x(), q.get_height()/2+p.get_height()))\n",
    "\n",
    "plt.tight_layout()\n",
    "plt.show()"
   ]
  },
  {
   "cell_type": "raw",
   "metadata": {},
   "source": [
    "Human Resources, Marketing, and Technical Degree seem to have the highest rate of attrition (more than 20%)"
   ]
  },
  {
   "cell_type": "markdown",
   "metadata": {},
   "source": [
    "#### Attrition rate Vs Years at company"
   ]
  },
  {
   "cell_type": "code",
   "execution_count": 268,
   "metadata": {},
   "outputs": [
    {
     "data": {
      "image/png": "[encoded data removed]",
      "text/plain": [
       "<Figure size 720x360 with 1 Axes>"
      ]
     },
     "metadata": {
      "needs_background": "light"
     },
     "output_type": "display_data"
    }
   ],
   "source": [
    "ax = data['YearsAtCompany'].loc[data['Attrition'] == 'No'].plot.hist(bins=10, label='No Attrition', figsize = (10,5))\n",
    "ax = data['YearsAtCompany'].loc[data['Attrition'] == 'Yes'].plot.hist(bins=10, label='Attrition')\n",
    "ax.set_xlabel('Years At Company')\n",
    "ax.set_title('Relative Year-At-Company distribution')\n",
    "ax.legend();"
   ]
  },
  {
   "cell_type": "raw",
   "metadata": {},
   "source": [
    "It seems that employees tend to leave during the first 10 years working at the company"
   ]
  },
  {
   "cell_type": "markdown",
   "metadata": {},
   "source": [
    "#### Attrition rate VS Total Working Years"
   ]
  },
  {
   "cell_type": "code",
   "execution_count": 269,
   "metadata": {},
   "outputs": [
    {
     "data": {
      "image/png": "[encoded data removed]",
      "text/plain": [
       "<Figure size 720x360 with 1 Axes>"
      ]
     },
     "metadata": {
      "needs_background": "light"
     },
     "output_type": "display_data"
    }
   ],
   "source": [
    "ax = data['TotalWorkingYears'].loc[data['Attrition'] == 'No'].plot.hist(bins=10, label='No Attrition', figsize = (10,5))\n",
    "ax = data['TotalWorkingYears'].loc[data['Attrition'] == 'Yes'].plot.hist(bins=10, label='Attrition')\n",
    "ax.set_xlabel('Total Working Years')\n",
    "ax.set_title('Relative Total-Working-Year distribution')\n",
    "ax.legend();"
   ]
  },
  {
   "cell_type": "raw",
   "metadata": {},
   "source": [
    "Looking at the chart, we can still see that most employees have a tendency to leave during the first 10 years at the company"
   ]
  },
  {
   "cell_type": "markdown",
   "metadata": {},
   "source": [
    "#### Attrition rate VS Years With Current Manager"
   ]
  },
  {
   "cell_type": "code",
   "execution_count": 291,
   "metadata": {},
   "outputs": [
    {
     "data": {
      "image/png": "[encoded data removed]",
      "text/plain": [
       "<Figure size 720x360 with 1 Axes>"
      ]
     },
     "metadata": {
      "needs_background": "light"
     },
     "output_type": "display_data"
    }
   ],
   "source": [
    "ax = data['YearsWithCurrManager'].loc[data['Attrition'] == 'No'].plot.hist(bins=10, label='No Attrition', figsize = (10,5))\n",
    "ax = data['YearsWithCurrManager'].loc[data['Attrition'] == 'Yes'].plot.hist(bins=10, label='Attrition')\n",
    "ax.set_xlabel('Years with Current Manager')\n",
    "ax.set_title('Relative Years-With-Current-Manager distribution')\n",
    "ax.legend();"
   ]
  },
  {
   "cell_type": "markdown",
   "metadata": {},
   "source": [
    "Most employees who have longer time working with the current manager seem to have lower attrition rate"
   ]
  },
  {
   "cell_type": "code",
   "execution_count": 292,
   "metadata": {},
   "outputs": [
    {
     "data": {
      "image/png": "[encoded data removed]",
      "text/plain": [
       "<Figure size 720x360 with 1 Axes>"
      ]
     },
     "metadata": {
      "needs_background": "light"
     },
     "output_type": "display_data"
    }
   ],
   "source": [
    "ax = data['YearsSinceLastPromotion'].loc[data['Attrition'] == 'No'].plot.hist(bins=10, label='No Attrition', figsize = (10,5))\n",
    "ax = data['YearsSinceLastPromotion'].loc[data['Attrition'] == 'Yes'].plot.hist(bins=10, label='Attrition')\n",
    "ax.set_xlabel('Years Since Last Promotion')\n",
    "ax.set_title('Relative Year-Since-Last-Promotion distribution')\n",
    "ax.legend();"
   ]
  },
  {
   "cell_type": "raw",
   "metadata": {},
   "source": [
    "During the first year after promotion, employees seem to have higher rate of attrition"
   ]
  },
  {
   "cell_type": "code",
   "execution_count": 294,
   "metadata": {},
   "outputs": [
    {
     "data": {
      "image/png": "[encoded data removed]",
      "text/plain": [
       "<Figure size 720x360 with 1 Axes>"
      ]
     },
     "metadata": {
      "needs_background": "light"
     },
     "output_type": "display_data"
    }
   ],
   "source": [
    "ax = data['YearsInCurrentRole'].loc[data['Attrition'] == 'No'].plot.hist(bins=10, label='No Attrition', figsize = (10,5))\n",
    "ax = data['YearsInCurrentRole'].loc[data['Attrition'] == 'Yes'].plot.hist(bins=10, label='Attrition')\n",
    "ax.set_xlabel('Years In Current Role')\n",
    "ax.set_title('Relative Year-In-Current-Role distribution')\n",
    "ax.legend();"
   ]
  },
  {
   "cell_type": "raw",
   "metadata": {},
   "source": [
    "Looking at the chart, we can see that employees tend to leave the company during the first 4 years with the same position."
   ]
  },
  {
   "cell_type": "markdown",
   "metadata": {},
   "source": [
    "#### Heat map\n",
    "Next, let see the correlation of attrition rate VS different factors"
   ]
  },
  {
   "cell_type": "code",
   "execution_count": 271,
   "metadata": {},
   "outputs": [
    {
     "data": {
      "image/png": "[encoded data removed]",
      "text/plain": [
       "<Figure size 936x648 with 2 Axes>"
      ]
     },
     "metadata": {
      "needs_background": "light"
     },
     "output_type": "display_data"
    }
   ],
   "source": [
    "#plotting heat map of the corelation matrix \n",
    "data = pd.get_dummies(data, columns = [\"Attrition\"])\n",
    "plt.figure(figsize=(13,9))\n",
    "sns.heatmap(data.corr(),vmax=0.8,linewidth=0.1)\n",
    "plt.show()"
   ]
  },
  {
   "cell_type": "markdown",
   "metadata": {},
   "source": [
    "## Data pre-processing"
   ]
  },
  {
   "cell_type": "code",
   "execution_count": 272,
   "metadata": {},
   "outputs": [
    {
     "data": {
      "text/html": [
       "<div>\n",
       "<style scoped>\n",
       "    .dataframe tbody tr th:only-of-type {\n",
       "        vertical-align: middle;\n",
       "    }\n",
       "\n",
       "    .dataframe tbody tr th {\n",
       "        vertical-align: top;\n",
       "    }\n",
       "\n",
       "    .dataframe thead th {\n",
       "        text-align: right;\n",
       "    }\n",
       "</style>\n",
       "<table border=\"1\" class=\"dataframe\">\n",
       "  <thead>\n",
       "    <tr style=\"text-align: right;\">\n",
       "      <th></th>\n",
       "      <th>Age</th>\n",
       "      <th>BusinessTravel</th>\n",
       "      <th>DailyRate</th>\n",
       "      <th>Department</th>\n",
       "      <th>DistanceFromHome</th>\n",
       "      <th>Education</th>\n",
       "      <th>EducationField</th>\n",
       "      <th>EnvironmentSatisfaction</th>\n",
       "      <th>Gender</th>\n",
       "      <th>HourlyRate</th>\n",
       "      <th>...</th>\n",
       "      <th>StockOptionLevel</th>\n",
       "      <th>TotalWorkingYears</th>\n",
       "      <th>TrainingTimesLastYear</th>\n",
       "      <th>WorkLifeBalance</th>\n",
       "      <th>YearsAtCompany</th>\n",
       "      <th>YearsInCurrentRole</th>\n",
       "      <th>YearsSinceLastPromotion</th>\n",
       "      <th>YearsWithCurrManager</th>\n",
       "      <th>Attrition_No</th>\n",
       "      <th>Attrition_Yes</th>\n",
       "    </tr>\n",
       "  </thead>\n",
       "  <tbody>\n",
       "    <tr>\n",
       "      <th>0</th>\n",
       "      <td>41</td>\n",
       "      <td>Travel_Rarely</td>\n",
       "      <td>1102</td>\n",
       "      <td>Sales</td>\n",
       "      <td>1</td>\n",
       "      <td>2</td>\n",
       "      <td>Life Sciences</td>\n",
       "      <td>2</td>\n",
       "      <td>Female</td>\n",
       "      <td>94</td>\n",
       "      <td>...</td>\n",
       "      <td>0</td>\n",
       "      <td>8</td>\n",
       "      <td>0</td>\n",
       "      <td>1</td>\n",
       "      <td>6</td>\n",
       "      <td>4</td>\n",
       "      <td>0</td>\n",
       "      <td>5</td>\n",
       "      <td>0</td>\n",
       "      <td>1</td>\n",
       "    </tr>\n",
       "    <tr>\n",
       "      <th>1</th>\n",
       "      <td>49</td>\n",
       "      <td>Travel_Frequently</td>\n",
       "      <td>279</td>\n",
       "      <td>Research &amp; Development</td>\n",
       "      <td>8</td>\n",
       "      <td>1</td>\n",
       "      <td>Life Sciences</td>\n",
       "      <td>3</td>\n",
       "      <td>Male</td>\n",
       "      <td>61</td>\n",
       "      <td>...</td>\n",
       "      <td>1</td>\n",
       "      <td>10</td>\n",
       "      <td>3</td>\n",
       "      <td>3</td>\n",
       "      <td>10</td>\n",
       "      <td>7</td>\n",
       "      <td>1</td>\n",
       "      <td>7</td>\n",
       "      <td>1</td>\n",
       "      <td>0</td>\n",
       "    </tr>\n",
       "    <tr>\n",
       "      <th>2</th>\n",
       "      <td>37</td>\n",
       "      <td>Travel_Rarely</td>\n",
       "      <td>1373</td>\n",
       "      <td>Research &amp; Development</td>\n",
       "      <td>2</td>\n",
       "      <td>2</td>\n",
       "      <td>Other</td>\n",
       "      <td>4</td>\n",
       "      <td>Male</td>\n",
       "      <td>92</td>\n",
       "      <td>...</td>\n",
       "      <td>0</td>\n",
       "      <td>7</td>\n",
       "      <td>3</td>\n",
       "      <td>3</td>\n",
       "      <td>0</td>\n",
       "      <td>0</td>\n",
       "      <td>0</td>\n",
       "      <td>0</td>\n",
       "      <td>0</td>\n",
       "      <td>1</td>\n",
       "    </tr>\n",
       "    <tr>\n",
       "      <th>3</th>\n",
       "      <td>33</td>\n",
       "      <td>Travel_Frequently</td>\n",
       "      <td>1392</td>\n",
       "      <td>Research &amp; Development</td>\n",
       "      <td>3</td>\n",
       "      <td>4</td>\n",
       "      <td>Life Sciences</td>\n",
       "      <td>4</td>\n",
       "      <td>Female</td>\n",
       "      <td>56</td>\n",
       "      <td>...</td>\n",
       "      <td>0</td>\n",
       "      <td>8</td>\n",
       "      <td>3</td>\n",
       "      <td>3</td>\n",
       "      <td>8</td>\n",
       "      <td>7</td>\n",
       "      <td>3</td>\n",
       "      <td>0</td>\n",
       "      <td>1</td>\n",
       "      <td>0</td>\n",
       "    </tr>\n",
       "    <tr>\n",
       "      <th>4</th>\n",
       "      <td>27</td>\n",
       "      <td>Travel_Rarely</td>\n",
       "      <td>591</td>\n",
       "      <td>Research &amp; Development</td>\n",
       "      <td>2</td>\n",
       "      <td>1</td>\n",
       "      <td>Medical</td>\n",
       "      <td>1</td>\n",
       "      <td>Male</td>\n",
       "      <td>40</td>\n",
       "      <td>...</td>\n",
       "      <td>1</td>\n",
       "      <td>6</td>\n",
       "      <td>3</td>\n",
       "      <td>3</td>\n",
       "      <td>2</td>\n",
       "      <td>2</td>\n",
       "      <td>2</td>\n",
       "      <td>2</td>\n",
       "      <td>1</td>\n",
       "      <td>0</td>\n",
       "    </tr>\n",
       "  </tbody>\n",
       "</table>\n",
       "<p>5 rows × 32 columns</p>\n",
       "</div>"
      ],
      "text/plain": [
       "   Age     BusinessTravel  DailyRate              Department  \\\n",
       "0   41      Travel_Rarely       1102                   Sales   \n",
       "1   49  Travel_Frequently        279  Research & Development   \n",
       "2   37      Travel_Rarely       1373  Research & Development   \n",
       "3   33  Travel_Frequently       1392  Research & Development   \n",
       "4   27      Travel_Rarely        591  Research & Development   \n",
       "\n",
       "   DistanceFromHome  Education EducationField  EnvironmentSatisfaction  \\\n",
       "0                 1          2  Life Sciences                        2   \n",
       "1                 8          1  Life Sciences                        3   \n",
       "2                 2          2          Other                        4   \n",
       "3                 3          4  Life Sciences                        4   \n",
       "4                 2          1        Medical                        1   \n",
       "\n",
       "   Gender  HourlyRate  ...  StockOptionLevel  TotalWorkingYears  \\\n",
       "0  Female          94  ...                 0                  8   \n",
       "1    Male          61  ...                 1                 10   \n",
       "2    Male          92  ...                 0                  7   \n",
       "3  Female          56  ...                 0                  8   \n",
       "4    Male          40  ...                 1                  6   \n",
       "\n",
       "  TrainingTimesLastYear  WorkLifeBalance YearsAtCompany  YearsInCurrentRole  \\\n",
       "0                     0                1              6                   4   \n",
       "1                     3                3             10                   7   \n",
       "2                     3                3              0                   0   \n",
       "3                     3                3              8                   7   \n",
       "4                     3                3              2                   2   \n",
       "\n",
       "   YearsSinceLastPromotion  YearsWithCurrManager Attrition_No  Attrition_Yes  \n",
       "0                        0                     5            0              1  \n",
       "1                        1                     7            1              0  \n",
       "2                        0                     0            0              1  \n",
       "3                        3                     0            1              0  \n",
       "4                        2                     2            1              0  \n",
       "\n",
       "[5 rows x 32 columns]"
      ]
     },
     "execution_count": 272,
     "metadata": {},
     "output_type": "execute_result"
    }
   ],
   "source": [
    "data.head()"
   ]
  },
  {
   "cell_type": "code",
   "execution_count": 273,
   "metadata": {},
   "outputs": [
    {
     "data": {
      "text/html": [
       "<div>\n",
       "<style scoped>\n",
       "    .dataframe tbody tr th:only-of-type {\n",
       "        vertical-align: middle;\n",
       "    }\n",
       "\n",
       "    .dataframe tbody tr th {\n",
       "        vertical-align: top;\n",
       "    }\n",
       "\n",
       "    .dataframe thead th {\n",
       "        text-align: right;\n",
       "    }\n",
       "</style>\n",
       "<table border=\"1\" class=\"dataframe\">\n",
       "  <thead>\n",
       "    <tr style=\"text-align: right;\">\n",
       "      <th></th>\n",
       "      <th>Age</th>\n",
       "      <th>BusinessTravel</th>\n",
       "      <th>DailyRate</th>\n",
       "      <th>Department</th>\n",
       "      <th>DistanceFromHome</th>\n",
       "      <th>Education</th>\n",
       "      <th>EducationField</th>\n",
       "      <th>EnvironmentSatisfaction</th>\n",
       "      <th>Gender</th>\n",
       "      <th>HourlyRate</th>\n",
       "      <th>...</th>\n",
       "      <th>StockOptionLevel</th>\n",
       "      <th>TotalWorkingYears</th>\n",
       "      <th>TrainingTimesLastYear</th>\n",
       "      <th>WorkLifeBalance</th>\n",
       "      <th>YearsAtCompany</th>\n",
       "      <th>YearsInCurrentRole</th>\n",
       "      <th>YearsSinceLastPromotion</th>\n",
       "      <th>YearsWithCurrManager</th>\n",
       "      <th>Attrition_No</th>\n",
       "      <th>Attrition_Yes</th>\n",
       "    </tr>\n",
       "  </thead>\n",
       "  <tbody>\n",
       "    <tr>\n",
       "      <th>0</th>\n",
       "      <td>41</td>\n",
       "      <td>Travel_Rarely</td>\n",
       "      <td>1102</td>\n",
       "      <td>Sales</td>\n",
       "      <td>1</td>\n",
       "      <td>2</td>\n",
       "      <td>Life Sciences</td>\n",
       "      <td>2</td>\n",
       "      <td>Female</td>\n",
       "      <td>94</td>\n",
       "      <td>...</td>\n",
       "      <td>0</td>\n",
       "      <td>8</td>\n",
       "      <td>0</td>\n",
       "      <td>1</td>\n",
       "      <td>6</td>\n",
       "      <td>4</td>\n",
       "      <td>0</td>\n",
       "      <td>5</td>\n",
       "      <td>0</td>\n",
       "      <td>1</td>\n",
       "    </tr>\n",
       "    <tr>\n",
       "      <th>1</th>\n",
       "      <td>49</td>\n",
       "      <td>Travel_Frequently</td>\n",
       "      <td>279</td>\n",
       "      <td>Research &amp; Development</td>\n",
       "      <td>8</td>\n",
       "      <td>1</td>\n",
       "      <td>Life Sciences</td>\n",
       "      <td>3</td>\n",
       "      <td>Male</td>\n",
       "      <td>61</td>\n",
       "      <td>...</td>\n",
       "      <td>1</td>\n",
       "      <td>10</td>\n",
       "      <td>3</td>\n",
       "      <td>3</td>\n",
       "      <td>10</td>\n",
       "      <td>7</td>\n",
       "      <td>1</td>\n",
       "      <td>7</td>\n",
       "      <td>1</td>\n",
       "      <td>0</td>\n",
       "    </tr>\n",
       "    <tr>\n",
       "      <th>2</th>\n",
       "      <td>37</td>\n",
       "      <td>Travel_Rarely</td>\n",
       "      <td>1373</td>\n",
       "      <td>Research &amp; Development</td>\n",
       "      <td>2</td>\n",
       "      <td>2</td>\n",
       "      <td>Other</td>\n",
       "      <td>4</td>\n",
       "      <td>Male</td>\n",
       "      <td>92</td>\n",
       "      <td>...</td>\n",
       "      <td>0</td>\n",
       "      <td>7</td>\n",
       "      <td>3</td>\n",
       "      <td>3</td>\n",
       "      <td>0</td>\n",
       "      <td>0</td>\n",
       "      <td>0</td>\n",
       "      <td>0</td>\n",
       "      <td>0</td>\n",
       "      <td>1</td>\n",
       "    </tr>\n",
       "    <tr>\n",
       "      <th>3</th>\n",
       "      <td>33</td>\n",
       "      <td>Travel_Frequently</td>\n",
       "      <td>1392</td>\n",
       "      <td>Research &amp; Development</td>\n",
       "      <td>3</td>\n",
       "      <td>4</td>\n",
       "      <td>Life Sciences</td>\n",
       "      <td>4</td>\n",
       "      <td>Female</td>\n",
       "      <td>56</td>\n",
       "      <td>...</td>\n",
       "      <td>0</td>\n",
       "      <td>8</td>\n",
       "      <td>3</td>\n",
       "      <td>3</td>\n",
       "      <td>8</td>\n",
       "      <td>7</td>\n",
       "      <td>3</td>\n",
       "      <td>0</td>\n",
       "      <td>1</td>\n",
       "      <td>0</td>\n",
       "    </tr>\n",
       "    <tr>\n",
       "      <th>4</th>\n",
       "      <td>27</td>\n",
       "      <td>Travel_Rarely</td>\n",
       "      <td>591</td>\n",
       "      <td>Research &amp; Development</td>\n",
       "      <td>2</td>\n",
       "      <td>1</td>\n",
       "      <td>Medical</td>\n",
       "      <td>1</td>\n",
       "      <td>Male</td>\n",
       "      <td>40</td>\n",
       "      <td>...</td>\n",
       "      <td>1</td>\n",
       "      <td>6</td>\n",
       "      <td>3</td>\n",
       "      <td>3</td>\n",
       "      <td>2</td>\n",
       "      <td>2</td>\n",
       "      <td>2</td>\n",
       "      <td>2</td>\n",
       "      <td>1</td>\n",
       "      <td>0</td>\n",
       "    </tr>\n",
       "  </tbody>\n",
       "</table>\n",
       "<p>5 rows × 32 columns</p>\n",
       "</div>"
      ],
      "text/plain": [
       "   Age     BusinessTravel  DailyRate              Department  \\\n",
       "0   41      Travel_Rarely       1102                   Sales   \n",
       "1   49  Travel_Frequently        279  Research & Development   \n",
       "2   37      Travel_Rarely       1373  Research & Development   \n",
       "3   33  Travel_Frequently       1392  Research & Development   \n",
       "4   27      Travel_Rarely        591  Research & Development   \n",
       "\n",
       "   DistanceFromHome  Education EducationField  EnvironmentSatisfaction  \\\n",
       "0                 1          2  Life Sciences                        2   \n",
       "1                 8          1  Life Sciences                        3   \n",
       "2                 2          2          Other                        4   \n",
       "3                 3          4  Life Sciences                        4   \n",
       "4                 2          1        Medical                        1   \n",
       "\n",
       "   Gender  HourlyRate  ...  StockOptionLevel  TotalWorkingYears  \\\n",
       "0  Female          94  ...                 0                  8   \n",
       "1    Male          61  ...                 1                 10   \n",
       "2    Male          92  ...                 0                  7   \n",
       "3  Female          56  ...                 0                  8   \n",
       "4    Male          40  ...                 1                  6   \n",
       "\n",
       "  TrainingTimesLastYear  WorkLifeBalance YearsAtCompany  YearsInCurrentRole  \\\n",
       "0                     0                1              6                   4   \n",
       "1                     3                3             10                   7   \n",
       "2                     3                3              0                   0   \n",
       "3                     3                3              8                   7   \n",
       "4                     3                3              2                   2   \n",
       "\n",
       "   YearsSinceLastPromotion  YearsWithCurrManager Attrition_No  Attrition_Yes  \n",
       "0                        0                     5            0              1  \n",
       "1                        1                     7            1              0  \n",
       "2                        0                     0            0              1  \n",
       "3                        3                     0            1              0  \n",
       "4                        2                     2            1              0  \n",
       "\n",
       "[5 rows x 32 columns]"
      ]
     },
     "execution_count": 273,
     "metadata": {},
     "output_type": "execute_result"
    }
   ],
   "source": [
    "data.head()"
   ]
  },
  {
   "cell_type": "markdown",
   "metadata": {},
   "source": [
    "#### Encode categorical variables"
   ]
  },
  {
   "cell_type": "code",
   "execution_count": 296,
   "metadata": {},
   "outputs": [
    {
     "data": {
      "text/html": [
       "<style  type=\"text/css\" >\n",
       "</style><table id=\"T_80692706_8a80_11eb_b29e_784f43a0fb98\" ><thead>    <tr>        <th class=\"blank level0\" ></th>        <th class=\"col_heading level0 col0\" >Age</th>        <th class=\"col_heading level0 col1\" >DailyRate</th>        <th class=\"col_heading level0 col2\" >DistanceFromHome</th>        <th class=\"col_heading level0 col3\" >Education</th>        <th class=\"col_heading level0 col4\" >EnvironmentSatisfaction</th>        <th class=\"col_heading level0 col5\" >HourlyRate</th>        <th class=\"col_heading level0 col6\" >JobInvolvement</th>        <th class=\"col_heading level0 col7\" >JobLevel</th>        <th class=\"col_heading level0 col8\" >JobSatisfaction</th>        <th class=\"col_heading level0 col9\" >MonthlyIncome</th>        <th class=\"col_heading level0 col10\" >MonthlyRate</th>        <th class=\"col_heading level0 col11\" >NumCompaniesWorked</th>        <th class=\"col_heading level0 col12\" >PercentSalaryHike</th>        <th class=\"col_heading level0 col13\" >PerformanceRating</th>        <th class=\"col_heading level0 col14\" >RelationshipSatisfaction</th>        <th class=\"col_heading level0 col15\" >StockOptionLevel</th>        <th class=\"col_heading level0 col16\" >TotalWorkingYears</th>        <th class=\"col_heading level0 col17\" >TrainingTimesLastYear</th>        <th class=\"col_heading level0 col18\" >WorkLifeBalance</th>        <th class=\"col_heading level0 col19\" >YearsAtCompany</th>        <th class=\"col_heading level0 col20\" >YearsInCurrentRole</th>        <th class=\"col_heading level0 col21\" >YearsSinceLastPromotion</th>        <th class=\"col_heading level0 col22\" >YearsWithCurrManager</th>        <th class=\"col_heading level0 col23\" >Attrition_No</th>        <th class=\"col_heading level0 col24\" >Attrition_Yes</th>        <th class=\"col_heading level0 col25\" >BusinessTravel_Non-Travel</th>        <th class=\"col_heading level0 col26\" >BusinessTravel_Travel_Frequently</th>        <th class=\"col_heading level0 col27\" >BusinessTravel_Travel_Rarely</th>        <th class=\"col_heading level0 col28\" >Department_Human Resources</th>        <th class=\"col_heading level0 col29\" >Department_Research & Development</th>        <th class=\"col_heading level0 col30\" >Department_Sales</th>        <th class=\"col_heading level0 col31\" >EducationField_Human Resources</th>        <th class=\"col_heading level0 col32\" >EducationField_Life Sciences</th>        <th class=\"col_heading level0 col33\" >EducationField_Marketing</th>        <th class=\"col_heading level0 col34\" >EducationField_Medical</th>        <th class=\"col_heading level0 col35\" >EducationField_Other</th>        <th class=\"col_heading level0 col36\" >EducationField_Technical Degree</th>        <th class=\"col_heading level0 col37\" >Gender_Female</th>        <th class=\"col_heading level0 col38\" >Gender_Male</th>        <th class=\"col_heading level0 col39\" >JobRole_Healthcare Representative</th>        <th class=\"col_heading level0 col40\" >JobRole_Human Resources</th>        <th class=\"col_heading level0 col41\" >JobRole_Laboratory Technician</th>        <th class=\"col_heading level0 col42\" >JobRole_Manager</th>        <th class=\"col_heading level0 col43\" >JobRole_Manufacturing Director</th>        <th class=\"col_heading level0 col44\" >JobRole_Research Director</th>        <th class=\"col_heading level0 col45\" >JobRole_Research Scientist</th>        <th class=\"col_heading level0 col46\" >JobRole_Sales Executive</th>        <th class=\"col_heading level0 col47\" >JobRole_Sales Representative</th>        <th class=\"col_heading level0 col48\" >MaritalStatus_Divorced</th>        <th class=\"col_heading level0 col49\" >MaritalStatus_Married</th>        <th class=\"col_heading level0 col50\" >MaritalStatus_Single</th>        <th class=\"col_heading level0 col51\" >OverTime_No</th>        <th class=\"col_heading level0 col52\" >OverTime_Yes</th>    </tr></thead><tbody>\n",
       "                <tr>\n",
       "                        <th id=\"T_80692706_8a80_11eb_b29e_784f43a0fb98level0_row0\" class=\"row_heading level0 row0\" >0</th>\n",
       "                        <td id=\"T_80692706_8a80_11eb_b29e_784f43a0fb98row0_col0\" class=\"data row0 col0\" >41</td>\n",
       "                        <td id=\"T_80692706_8a80_11eb_b29e_784f43a0fb98row0_col1\" class=\"data row0 col1\" >1102</td>\n",
       "                        <td id=\"T_80692706_8a80_11eb_b29e_784f43a0fb98row0_col2\" class=\"data row0 col2\" >1</td>\n",
       "                        <td id=\"T_80692706_8a80_11eb_b29e_784f43a0fb98row0_col3\" class=\"data row0 col3\" >2</td>\n",
       "                        <td id=\"T_80692706_8a80_11eb_b29e_784f43a0fb98row0_col4\" class=\"data row0 col4\" >2</td>\n",
       "                        <td id=\"T_80692706_8a80_11eb_b29e_784f43a0fb98row0_col5\" class=\"data row0 col5\" >94</td>\n",
       "                        <td id=\"T_80692706_8a80_11eb_b29e_784f43a0fb98row0_col6\" class=\"data row0 col6\" >3</td>\n",
       "                        <td id=\"T_80692706_8a80_11eb_b29e_784f43a0fb98row0_col7\" class=\"data row0 col7\" >2</td>\n",
       "                        <td id=\"T_80692706_8a80_11eb_b29e_784f43a0fb98row0_col8\" class=\"data row0 col8\" >4</td>\n",
       "                        <td id=\"T_80692706_8a80_11eb_b29e_784f43a0fb98row0_col9\" class=\"data row0 col9\" >5993</td>\n",
       "                        <td id=\"T_80692706_8a80_11eb_b29e_784f43a0fb98row0_col10\" class=\"data row0 col10\" >19479</td>\n",
       "                        <td id=\"T_80692706_8a80_11eb_b29e_784f43a0fb98row0_col11\" class=\"data row0 col11\" >8</td>\n",
       "                        <td id=\"T_80692706_8a80_11eb_b29e_784f43a0fb98row0_col12\" class=\"data row0 col12\" >11</td>\n",
       "                        <td id=\"T_80692706_8a80_11eb_b29e_784f43a0fb98row0_col13\" class=\"data row0 col13\" >3</td>\n",
       "                        <td id=\"T_80692706_8a80_11eb_b29e_784f43a0fb98row0_col14\" class=\"data row0 col14\" >1</td>\n",
       "                        <td id=\"T_80692706_8a80_11eb_b29e_784f43a0fb98row0_col15\" class=\"data row0 col15\" >0</td>\n",
       "                        <td id=\"T_80692706_8a80_11eb_b29e_784f43a0fb98row0_col16\" class=\"data row0 col16\" >8</td>\n",
       "                        <td id=\"T_80692706_8a80_11eb_b29e_784f43a0fb98row0_col17\" class=\"data row0 col17\" >0</td>\n",
       "                        <td id=\"T_80692706_8a80_11eb_b29e_784f43a0fb98row0_col18\" class=\"data row0 col18\" >1</td>\n",
       "                        <td id=\"T_80692706_8a80_11eb_b29e_784f43a0fb98row0_col19\" class=\"data row0 col19\" >6</td>\n",
       "                        <td id=\"T_80692706_8a80_11eb_b29e_784f43a0fb98row0_col20\" class=\"data row0 col20\" >4</td>\n",
       "                        <td id=\"T_80692706_8a80_11eb_b29e_784f43a0fb98row0_col21\" class=\"data row0 col21\" >0</td>\n",
       "                        <td id=\"T_80692706_8a80_11eb_b29e_784f43a0fb98row0_col22\" class=\"data row0 col22\" >5</td>\n",
       "                        <td id=\"T_80692706_8a80_11eb_b29e_784f43a0fb98row0_col23\" class=\"data row0 col23\" >0</td>\n",
       "                        <td id=\"T_80692706_8a80_11eb_b29e_784f43a0fb98row0_col24\" class=\"data row0 col24\" >1</td>\n",
       "                        <td id=\"T_80692706_8a80_11eb_b29e_784f43a0fb98row0_col25\" class=\"data row0 col25\" >0</td>\n",
       "                        <td id=\"T_80692706_8a80_11eb_b29e_784f43a0fb98row0_col26\" class=\"data row0 col26\" >0</td>\n",
       "                        <td id=\"T_80692706_8a80_11eb_b29e_784f43a0fb98row0_col27\" class=\"data row0 col27\" >1</td>\n",
       "                        <td id=\"T_80692706_8a80_11eb_b29e_784f43a0fb98row0_col28\" class=\"data row0 col28\" >0</td>\n",
       "                        <td id=\"T_80692706_8a80_11eb_b29e_784f43a0fb98row0_col29\" class=\"data row0 col29\" >0</td>\n",
       "                        <td id=\"T_80692706_8a80_11eb_b29e_784f43a0fb98row0_col30\" class=\"data row0 col30\" >1</td>\n",
       "                        <td id=\"T_80692706_8a80_11eb_b29e_784f43a0fb98row0_col31\" class=\"data row0 col31\" >0</td>\n",
       "                        <td id=\"T_80692706_8a80_11eb_b29e_784f43a0fb98row0_col32\" class=\"data row0 col32\" >1</td>\n",
       "                        <td id=\"T_80692706_8a80_11eb_b29e_784f43a0fb98row0_col33\" class=\"data row0 col33\" >0</td>\n",
       "                        <td id=\"T_80692706_8a80_11eb_b29e_784f43a0fb98row0_col34\" class=\"data row0 col34\" >0</td>\n",
       "                        <td id=\"T_80692706_8a80_11eb_b29e_784f43a0fb98row0_col35\" class=\"data row0 col35\" >0</td>\n",
       "                        <td id=\"T_80692706_8a80_11eb_b29e_784f43a0fb98row0_col36\" class=\"data row0 col36\" >0</td>\n",
       "                        <td id=\"T_80692706_8a80_11eb_b29e_784f43a0fb98row0_col37\" class=\"data row0 col37\" >1</td>\n",
       "                        <td id=\"T_80692706_8a80_11eb_b29e_784f43a0fb98row0_col38\" class=\"data row0 col38\" >0</td>\n",
       "                        <td id=\"T_80692706_8a80_11eb_b29e_784f43a0fb98row0_col39\" class=\"data row0 col39\" >0</td>\n",
       "                        <td id=\"T_80692706_8a80_11eb_b29e_784f43a0fb98row0_col40\" class=\"data row0 col40\" >0</td>\n",
       "                        <td id=\"T_80692706_8a80_11eb_b29e_784f43a0fb98row0_col41\" class=\"data row0 col41\" >0</td>\n",
       "                        <td id=\"T_80692706_8a80_11eb_b29e_784f43a0fb98row0_col42\" class=\"data row0 col42\" >0</td>\n",
       "                        <td id=\"T_80692706_8a80_11eb_b29e_784f43a0fb98row0_col43\" class=\"data row0 col43\" >0</td>\n",
       "                        <td id=\"T_80692706_8a80_11eb_b29e_784f43a0fb98row0_col44\" class=\"data row0 col44\" >0</td>\n",
       "                        <td id=\"T_80692706_8a80_11eb_b29e_784f43a0fb98row0_col45\" class=\"data row0 col45\" >0</td>\n",
       "                        <td id=\"T_80692706_8a80_11eb_b29e_784f43a0fb98row0_col46\" class=\"data row0 col46\" >1</td>\n",
       "                        <td id=\"T_80692706_8a80_11eb_b29e_784f43a0fb98row0_col47\" class=\"data row0 col47\" >0</td>\n",
       "                        <td id=\"T_80692706_8a80_11eb_b29e_784f43a0fb98row0_col48\" class=\"data row0 col48\" >0</td>\n",
       "                        <td id=\"T_80692706_8a80_11eb_b29e_784f43a0fb98row0_col49\" class=\"data row0 col49\" >0</td>\n",
       "                        <td id=\"T_80692706_8a80_11eb_b29e_784f43a0fb98row0_col50\" class=\"data row0 col50\" >1</td>\n",
       "                        <td id=\"T_80692706_8a80_11eb_b29e_784f43a0fb98row0_col51\" class=\"data row0 col51\" >0</td>\n",
       "                        <td id=\"T_80692706_8a80_11eb_b29e_784f43a0fb98row0_col52\" class=\"data row0 col52\" >1</td>\n",
       "            </tr>\n",
       "            <tr>\n",
       "                        <th id=\"T_80692706_8a80_11eb_b29e_784f43a0fb98level0_row1\" class=\"row_heading level0 row1\" >1</th>\n",
       "                        <td id=\"T_80692706_8a80_11eb_b29e_784f43a0fb98row1_col0\" class=\"data row1 col0\" >49</td>\n",
       "                        <td id=\"T_80692706_8a80_11eb_b29e_784f43a0fb98row1_col1\" class=\"data row1 col1\" >279</td>\n",
       "                        <td id=\"T_80692706_8a80_11eb_b29e_784f43a0fb98row1_col2\" class=\"data row1 col2\" >8</td>\n",
       "                        <td id=\"T_80692706_8a80_11eb_b29e_784f43a0fb98row1_col3\" class=\"data row1 col3\" >1</td>\n",
       "                        <td id=\"T_80692706_8a80_11eb_b29e_784f43a0fb98row1_col4\" class=\"data row1 col4\" >3</td>\n",
       "                        <td id=\"T_80692706_8a80_11eb_b29e_784f43a0fb98row1_col5\" class=\"data row1 col5\" >61</td>\n",
       "                        <td id=\"T_80692706_8a80_11eb_b29e_784f43a0fb98row1_col6\" class=\"data row1 col6\" >2</td>\n",
       "                        <td id=\"T_80692706_8a80_11eb_b29e_784f43a0fb98row1_col7\" class=\"data row1 col7\" >2</td>\n",
       "                        <td id=\"T_80692706_8a80_11eb_b29e_784f43a0fb98row1_col8\" class=\"data row1 col8\" >2</td>\n",
       "                        <td id=\"T_80692706_8a80_11eb_b29e_784f43a0fb98row1_col9\" class=\"data row1 col9\" >5130</td>\n",
       "                        <td id=\"T_80692706_8a80_11eb_b29e_784f43a0fb98row1_col10\" class=\"data row1 col10\" >24907</td>\n",
       "                        <td id=\"T_80692706_8a80_11eb_b29e_784f43a0fb98row1_col11\" class=\"data row1 col11\" >1</td>\n",
       "                        <td id=\"T_80692706_8a80_11eb_b29e_784f43a0fb98row1_col12\" class=\"data row1 col12\" >23</td>\n",
       "                        <td id=\"T_80692706_8a80_11eb_b29e_784f43a0fb98row1_col13\" class=\"data row1 col13\" >4</td>\n",
       "                        <td id=\"T_80692706_8a80_11eb_b29e_784f43a0fb98row1_col14\" class=\"data row1 col14\" >4</td>\n",
       "                        <td id=\"T_80692706_8a80_11eb_b29e_784f43a0fb98row1_col15\" class=\"data row1 col15\" >1</td>\n",
       "                        <td id=\"T_80692706_8a80_11eb_b29e_784f43a0fb98row1_col16\" class=\"data row1 col16\" >10</td>\n",
       "                        <td id=\"T_80692706_8a80_11eb_b29e_784f43a0fb98row1_col17\" class=\"data row1 col17\" >3</td>\n",
       "                        <td id=\"T_80692706_8a80_11eb_b29e_784f43a0fb98row1_col18\" class=\"data row1 col18\" >3</td>\n",
       "                        <td id=\"T_80692706_8a80_11eb_b29e_784f43a0fb98row1_col19\" class=\"data row1 col19\" >10</td>\n",
       "                        <td id=\"T_80692706_8a80_11eb_b29e_784f43a0fb98row1_col20\" class=\"data row1 col20\" >7</td>\n",
       "                        <td id=\"T_80692706_8a80_11eb_b29e_784f43a0fb98row1_col21\" class=\"data row1 col21\" >1</td>\n",
       "                        <td id=\"T_80692706_8a80_11eb_b29e_784f43a0fb98row1_col22\" class=\"data row1 col22\" >7</td>\n",
       "                        <td id=\"T_80692706_8a80_11eb_b29e_784f43a0fb98row1_col23\" class=\"data row1 col23\" >1</td>\n",
       "                        <td id=\"T_80692706_8a80_11eb_b29e_784f43a0fb98row1_col24\" class=\"data row1 col24\" >0</td>\n",
       "                        <td id=\"T_80692706_8a80_11eb_b29e_784f43a0fb98row1_col25\" class=\"data row1 col25\" >0</td>\n",
       "                        <td id=\"T_80692706_8a80_11eb_b29e_784f43a0fb98row1_col26\" class=\"data row1 col26\" >1</td>\n",
       "                        <td id=\"T_80692706_8a80_11eb_b29e_784f43a0fb98row1_col27\" class=\"data row1 col27\" >0</td>\n",
       "                        <td id=\"T_80692706_8a80_11eb_b29e_784f43a0fb98row1_col28\" class=\"data row1 col28\" >0</td>\n",
       "                        <td id=\"T_80692706_8a80_11eb_b29e_784f43a0fb98row1_col29\" class=\"data row1 col29\" >1</td>\n",
       "                        <td id=\"T_80692706_8a80_11eb_b29e_784f43a0fb98row1_col30\" class=\"data row1 col30\" >0</td>\n",
       "                        <td id=\"T_80692706_8a80_11eb_b29e_784f43a0fb98row1_col31\" class=\"data row1 col31\" >0</td>\n",
       "                        <td id=\"T_80692706_8a80_11eb_b29e_784f43a0fb98row1_col32\" class=\"data row1 col32\" >1</td>\n",
       "                        <td id=\"T_80692706_8a80_11eb_b29e_784f43a0fb98row1_col33\" class=\"data row1 col33\" >0</td>\n",
       "                        <td id=\"T_80692706_8a80_11eb_b29e_784f43a0fb98row1_col34\" class=\"data row1 col34\" >0</td>\n",
       "                        <td id=\"T_80692706_8a80_11eb_b29e_784f43a0fb98row1_col35\" class=\"data row1 col35\" >0</td>\n",
       "                        <td id=\"T_80692706_8a80_11eb_b29e_784f43a0fb98row1_col36\" class=\"data row1 col36\" >0</td>\n",
       "                        <td id=\"T_80692706_8a80_11eb_b29e_784f43a0fb98row1_col37\" class=\"data row1 col37\" >0</td>\n",
       "                        <td id=\"T_80692706_8a80_11eb_b29e_784f43a0fb98row1_col38\" class=\"data row1 col38\" >1</td>\n",
       "                        <td id=\"T_80692706_8a80_11eb_b29e_784f43a0fb98row1_col39\" class=\"data row1 col39\" >0</td>\n",
       "                        <td id=\"T_80692706_8a80_11eb_b29e_784f43a0fb98row1_col40\" class=\"data row1 col40\" >0</td>\n",
       "                        <td id=\"T_80692706_8a80_11eb_b29e_784f43a0fb98row1_col41\" class=\"data row1 col41\" >0</td>\n",
       "                        <td id=\"T_80692706_8a80_11eb_b29e_784f43a0fb98row1_col42\" class=\"data row1 col42\" >0</td>\n",
       "                        <td id=\"T_80692706_8a80_11eb_b29e_784f43a0fb98row1_col43\" class=\"data row1 col43\" >0</td>\n",
       "                        <td id=\"T_80692706_8a80_11eb_b29e_784f43a0fb98row1_col44\" class=\"data row1 col44\" >0</td>\n",
       "                        <td id=\"T_80692706_8a80_11eb_b29e_784f43a0fb98row1_col45\" class=\"data row1 col45\" >1</td>\n",
       "                        <td id=\"T_80692706_8a80_11eb_b29e_784f43a0fb98row1_col46\" class=\"data row1 col46\" >0</td>\n",
       "                        <td id=\"T_80692706_8a80_11eb_b29e_784f43a0fb98row1_col47\" class=\"data row1 col47\" >0</td>\n",
       "                        <td id=\"T_80692706_8a80_11eb_b29e_784f43a0fb98row1_col48\" class=\"data row1 col48\" >0</td>\n",
       "                        <td id=\"T_80692706_8a80_11eb_b29e_784f43a0fb98row1_col49\" class=\"data row1 col49\" >1</td>\n",
       "                        <td id=\"T_80692706_8a80_11eb_b29e_784f43a0fb98row1_col50\" class=\"data row1 col50\" >0</td>\n",
       "                        <td id=\"T_80692706_8a80_11eb_b29e_784f43a0fb98row1_col51\" class=\"data row1 col51\" >1</td>\n",
       "                        <td id=\"T_80692706_8a80_11eb_b29e_784f43a0fb98row1_col52\" class=\"data row1 col52\" >0</td>\n",
       "            </tr>\n",
       "            <tr>\n",
       "                        <th id=\"T_80692706_8a80_11eb_b29e_784f43a0fb98level0_row2\" class=\"row_heading level0 row2\" >2</th>\n",
       "                        <td id=\"T_80692706_8a80_11eb_b29e_784f43a0fb98row2_col0\" class=\"data row2 col0\" >37</td>\n",
       "                        <td id=\"T_80692706_8a80_11eb_b29e_784f43a0fb98row2_col1\" class=\"data row2 col1\" >1373</td>\n",
       "                        <td id=\"T_80692706_8a80_11eb_b29e_784f43a0fb98row2_col2\" class=\"data row2 col2\" >2</td>\n",
       "                        <td id=\"T_80692706_8a80_11eb_b29e_784f43a0fb98row2_col3\" class=\"data row2 col3\" >2</td>\n",
       "                        <td id=\"T_80692706_8a80_11eb_b29e_784f43a0fb98row2_col4\" class=\"data row2 col4\" >4</td>\n",
       "                        <td id=\"T_80692706_8a80_11eb_b29e_784f43a0fb98row2_col5\" class=\"data row2 col5\" >92</td>\n",
       "                        <td id=\"T_80692706_8a80_11eb_b29e_784f43a0fb98row2_col6\" class=\"data row2 col6\" >2</td>\n",
       "                        <td id=\"T_80692706_8a80_11eb_b29e_784f43a0fb98row2_col7\" class=\"data row2 col7\" >1</td>\n",
       "                        <td id=\"T_80692706_8a80_11eb_b29e_784f43a0fb98row2_col8\" class=\"data row2 col8\" >3</td>\n",
       "                        <td id=\"T_80692706_8a80_11eb_b29e_784f43a0fb98row2_col9\" class=\"data row2 col9\" >2090</td>\n",
       "                        <td id=\"T_80692706_8a80_11eb_b29e_784f43a0fb98row2_col10\" class=\"data row2 col10\" >2396</td>\n",
       "                        <td id=\"T_80692706_8a80_11eb_b29e_784f43a0fb98row2_col11\" class=\"data row2 col11\" >6</td>\n",
       "                        <td id=\"T_80692706_8a80_11eb_b29e_784f43a0fb98row2_col12\" class=\"data row2 col12\" >15</td>\n",
       "                        <td id=\"T_80692706_8a80_11eb_b29e_784f43a0fb98row2_col13\" class=\"data row2 col13\" >3</td>\n",
       "                        <td id=\"T_80692706_8a80_11eb_b29e_784f43a0fb98row2_col14\" class=\"data row2 col14\" >2</td>\n",
       "                        <td id=\"T_80692706_8a80_11eb_b29e_784f43a0fb98row2_col15\" class=\"data row2 col15\" >0</td>\n",
       "                        <td id=\"T_80692706_8a80_11eb_b29e_784f43a0fb98row2_col16\" class=\"data row2 col16\" >7</td>\n",
       "                        <td id=\"T_80692706_8a80_11eb_b29e_784f43a0fb98row2_col17\" class=\"data row2 col17\" >3</td>\n",
       "                        <td id=\"T_80692706_8a80_11eb_b29e_784f43a0fb98row2_col18\" class=\"data row2 col18\" >3</td>\n",
       "                        <td id=\"T_80692706_8a80_11eb_b29e_784f43a0fb98row2_col19\" class=\"data row2 col19\" >0</td>\n",
       "                        <td id=\"T_80692706_8a80_11eb_b29e_784f43a0fb98row2_col20\" class=\"data row2 col20\" >0</td>\n",
       "                        <td id=\"T_80692706_8a80_11eb_b29e_784f43a0fb98row2_col21\" class=\"data row2 col21\" >0</td>\n",
       "                        <td id=\"T_80692706_8a80_11eb_b29e_784f43a0fb98row2_col22\" class=\"data row2 col22\" >0</td>\n",
       "                        <td id=\"T_80692706_8a80_11eb_b29e_784f43a0fb98row2_col23\" class=\"data row2 col23\" >0</td>\n",
       "                        <td id=\"T_80692706_8a80_11eb_b29e_784f43a0fb98row2_col24\" class=\"data row2 col24\" >1</td>\n",
       "                        <td id=\"T_80692706_8a80_11eb_b29e_784f43a0fb98row2_col25\" class=\"data row2 col25\" >0</td>\n",
       "                        <td id=\"T_80692706_8a80_11eb_b29e_784f43a0fb98row2_col26\" class=\"data row2 col26\" >0</td>\n",
       "                        <td id=\"T_80692706_8a80_11eb_b29e_784f43a0fb98row2_col27\" class=\"data row2 col27\" >1</td>\n",
       "                        <td id=\"T_80692706_8a80_11eb_b29e_784f43a0fb98row2_col28\" class=\"data row2 col28\" >0</td>\n",
       "                        <td id=\"T_80692706_8a80_11eb_b29e_784f43a0fb98row2_col29\" class=\"data row2 col29\" >1</td>\n",
       "                        <td id=\"T_80692706_8a80_11eb_b29e_784f43a0fb98row2_col30\" class=\"data row2 col30\" >0</td>\n",
       "                        <td id=\"T_80692706_8a80_11eb_b29e_784f43a0fb98row2_col31\" class=\"data row2 col31\" >0</td>\n",
       "                        <td id=\"T_80692706_8a80_11eb_b29e_784f43a0fb98row2_col32\" class=\"data row2 col32\" >0</td>\n",
       "                        <td id=\"T_80692706_8a80_11eb_b29e_784f43a0fb98row2_col33\" class=\"data row2 col33\" >0</td>\n",
       "                        <td id=\"T_80692706_8a80_11eb_b29e_784f43a0fb98row2_col34\" class=\"data row2 col34\" >0</td>\n",
       "                        <td id=\"T_80692706_8a80_11eb_b29e_784f43a0fb98row2_col35\" class=\"data row2 col35\" >1</td>\n",
       "                        <td id=\"T_80692706_8a80_11eb_b29e_784f43a0fb98row2_col36\" class=\"data row2 col36\" >0</td>\n",
       "                        <td id=\"T_80692706_8a80_11eb_b29e_784f43a0fb98row2_col37\" class=\"data row2 col37\" >0</td>\n",
       "                        <td id=\"T_80692706_8a80_11eb_b29e_784f43a0fb98row2_col38\" class=\"data row2 col38\" >1</td>\n",
       "                        <td id=\"T_80692706_8a80_11eb_b29e_784f43a0fb98row2_col39\" class=\"data row2 col39\" >0</td>\n",
       "                        <td id=\"T_80692706_8a80_11eb_b29e_784f43a0fb98row2_col40\" class=\"data row2 col40\" >0</td>\n",
       "                        <td id=\"T_80692706_8a80_11eb_b29e_784f43a0fb98row2_col41\" class=\"data row2 col41\" >1</td>\n",
       "                        <td id=\"T_80692706_8a80_11eb_b29e_784f43a0fb98row2_col42\" class=\"data row2 col42\" >0</td>\n",
       "                        <td id=\"T_80692706_8a80_11eb_b29e_784f43a0fb98row2_col43\" class=\"data row2 col43\" >0</td>\n",
       "                        <td id=\"T_80692706_8a80_11eb_b29e_784f43a0fb98row2_col44\" class=\"data row2 col44\" >0</td>\n",
       "                        <td id=\"T_80692706_8a80_11eb_b29e_784f43a0fb98row2_col45\" class=\"data row2 col45\" >0</td>\n",
       "                        <td id=\"T_80692706_8a80_11eb_b29e_784f43a0fb98row2_col46\" class=\"data row2 col46\" >0</td>\n",
       "                        <td id=\"T_80692706_8a80_11eb_b29e_784f43a0fb98row2_col47\" class=\"data row2 col47\" >0</td>\n",
       "                        <td id=\"T_80692706_8a80_11eb_b29e_784f43a0fb98row2_col48\" class=\"data row2 col48\" >0</td>\n",
       "                        <td id=\"T_80692706_8a80_11eb_b29e_784f43a0fb98row2_col49\" class=\"data row2 col49\" >0</td>\n",
       "                        <td id=\"T_80692706_8a80_11eb_b29e_784f43a0fb98row2_col50\" class=\"data row2 col50\" >1</td>\n",
       "                        <td id=\"T_80692706_8a80_11eb_b29e_784f43a0fb98row2_col51\" class=\"data row2 col51\" >0</td>\n",
       "                        <td id=\"T_80692706_8a80_11eb_b29e_784f43a0fb98row2_col52\" class=\"data row2 col52\" >1</td>\n",
       "            </tr>\n",
       "            <tr>\n",
       "                        <th id=\"T_80692706_8a80_11eb_b29e_784f43a0fb98level0_row3\" class=\"row_heading level0 row3\" >3</th>\n",
       "                        <td id=\"T_80692706_8a80_11eb_b29e_784f43a0fb98row3_col0\" class=\"data row3 col0\" >33</td>\n",
       "                        <td id=\"T_80692706_8a80_11eb_b29e_784f43a0fb98row3_col1\" class=\"data row3 col1\" >1392</td>\n",
       "                        <td id=\"T_80692706_8a80_11eb_b29e_784f43a0fb98row3_col2\" class=\"data row3 col2\" >3</td>\n",
       "                        <td id=\"T_80692706_8a80_11eb_b29e_784f43a0fb98row3_col3\" class=\"data row3 col3\" >4</td>\n",
       "                        <td id=\"T_80692706_8a80_11eb_b29e_784f43a0fb98row3_col4\" class=\"data row3 col4\" >4</td>\n",
       "                        <td id=\"T_80692706_8a80_11eb_b29e_784f43a0fb98row3_col5\" class=\"data row3 col5\" >56</td>\n",
       "                        <td id=\"T_80692706_8a80_11eb_b29e_784f43a0fb98row3_col6\" class=\"data row3 col6\" >3</td>\n",
       "                        <td id=\"T_80692706_8a80_11eb_b29e_784f43a0fb98row3_col7\" class=\"data row3 col7\" >1</td>\n",
       "                        <td id=\"T_80692706_8a80_11eb_b29e_784f43a0fb98row3_col8\" class=\"data row3 col8\" >3</td>\n",
       "                        <td id=\"T_80692706_8a80_11eb_b29e_784f43a0fb98row3_col9\" class=\"data row3 col9\" >2909</td>\n",
       "                        <td id=\"T_80692706_8a80_11eb_b29e_784f43a0fb98row3_col10\" class=\"data row3 col10\" >23159</td>\n",
       "                        <td id=\"T_80692706_8a80_11eb_b29e_784f43a0fb98row3_col11\" class=\"data row3 col11\" >1</td>\n",
       "                        <td id=\"T_80692706_8a80_11eb_b29e_784f43a0fb98row3_col12\" class=\"data row3 col12\" >11</td>\n",
       "                        <td id=\"T_80692706_8a80_11eb_b29e_784f43a0fb98row3_col13\" class=\"data row3 col13\" >3</td>\n",
       "                        <td id=\"T_80692706_8a80_11eb_b29e_784f43a0fb98row3_col14\" class=\"data row3 col14\" >3</td>\n",
       "                        <td id=\"T_80692706_8a80_11eb_b29e_784f43a0fb98row3_col15\" class=\"data row3 col15\" >0</td>\n",
       "                        <td id=\"T_80692706_8a80_11eb_b29e_784f43a0fb98row3_col16\" class=\"data row3 col16\" >8</td>\n",
       "                        <td id=\"T_80692706_8a80_11eb_b29e_784f43a0fb98row3_col17\" class=\"data row3 col17\" >3</td>\n",
       "                        <td id=\"T_80692706_8a80_11eb_b29e_784f43a0fb98row3_col18\" class=\"data row3 col18\" >3</td>\n",
       "                        <td id=\"T_80692706_8a80_11eb_b29e_784f43a0fb98row3_col19\" class=\"data row3 col19\" >8</td>\n",
       "                        <td id=\"T_80692706_8a80_11eb_b29e_784f43a0fb98row3_col20\" class=\"data row3 col20\" >7</td>\n",
       "                        <td id=\"T_80692706_8a80_11eb_b29e_784f43a0fb98row3_col21\" class=\"data row3 col21\" >3</td>\n",
       "                        <td id=\"T_80692706_8a80_11eb_b29e_784f43a0fb98row3_col22\" class=\"data row3 col22\" >0</td>\n",
       "                        <td id=\"T_80692706_8a80_11eb_b29e_784f43a0fb98row3_col23\" class=\"data row3 col23\" >1</td>\n",
       "                        <td id=\"T_80692706_8a80_11eb_b29e_784f43a0fb98row3_col24\" class=\"data row3 col24\" >0</td>\n",
       "                        <td id=\"T_80692706_8a80_11eb_b29e_784f43a0fb98row3_col25\" class=\"data row3 col25\" >0</td>\n",
       "                        <td id=\"T_80692706_8a80_11eb_b29e_784f43a0fb98row3_col26\" class=\"data row3 col26\" >1</td>\n",
       "                        <td id=\"T_80692706_8a80_11eb_b29e_784f43a0fb98row3_col27\" class=\"data row3 col27\" >0</td>\n",
       "                        <td id=\"T_80692706_8a80_11eb_b29e_784f43a0fb98row3_col28\" class=\"data row3 col28\" >0</td>\n",
       "                        <td id=\"T_80692706_8a80_11eb_b29e_784f43a0fb98row3_col29\" class=\"data row3 col29\" >1</td>\n",
       "                        <td id=\"T_80692706_8a80_11eb_b29e_784f43a0fb98row3_col30\" class=\"data row3 col30\" >0</td>\n",
       "                        <td id=\"T_80692706_8a80_11eb_b29e_784f43a0fb98row3_col31\" class=\"data row3 col31\" >0</td>\n",
       "                        <td id=\"T_80692706_8a80_11eb_b29e_784f43a0fb98row3_col32\" class=\"data row3 col32\" >1</td>\n",
       "                        <td id=\"T_80692706_8a80_11eb_b29e_784f43a0fb98row3_col33\" class=\"data row3 col33\" >0</td>\n",
       "                        <td id=\"T_80692706_8a80_11eb_b29e_784f43a0fb98row3_col34\" class=\"data row3 col34\" >0</td>\n",
       "                        <td id=\"T_80692706_8a80_11eb_b29e_784f43a0fb98row3_col35\" class=\"data row3 col35\" >0</td>\n",
       "                        <td id=\"T_80692706_8a80_11eb_b29e_784f43a0fb98row3_col36\" class=\"data row3 col36\" >0</td>\n",
       "                        <td id=\"T_80692706_8a80_11eb_b29e_784f43a0fb98row3_col37\" class=\"data row3 col37\" >1</td>\n",
       "                        <td id=\"T_80692706_8a80_11eb_b29e_784f43a0fb98row3_col38\" class=\"data row3 col38\" >0</td>\n",
       "                        <td id=\"T_80692706_8a80_11eb_b29e_784f43a0fb98row3_col39\" class=\"data row3 col39\" >0</td>\n",
       "                        <td id=\"T_80692706_8a80_11eb_b29e_784f43a0fb98row3_col40\" class=\"data row3 col40\" >0</td>\n",
       "                        <td id=\"T_80692706_8a80_11eb_b29e_784f43a0fb98row3_col41\" class=\"data row3 col41\" >0</td>\n",
       "                        <td id=\"T_80692706_8a80_11eb_b29e_784f43a0fb98row3_col42\" class=\"data row3 col42\" >0</td>\n",
       "                        <td id=\"T_80692706_8a80_11eb_b29e_784f43a0fb98row3_col43\" class=\"data row3 col43\" >0</td>\n",
       "                        <td id=\"T_80692706_8a80_11eb_b29e_784f43a0fb98row3_col44\" class=\"data row3 col44\" >0</td>\n",
       "                        <td id=\"T_80692706_8a80_11eb_b29e_784f43a0fb98row3_col45\" class=\"data row3 col45\" >1</td>\n",
       "                        <td id=\"T_80692706_8a80_11eb_b29e_784f43a0fb98row3_col46\" class=\"data row3 col46\" >0</td>\n",
       "                        <td id=\"T_80692706_8a80_11eb_b29e_784f43a0fb98row3_col47\" class=\"data row3 col47\" >0</td>\n",
       "                        <td id=\"T_80692706_8a80_11eb_b29e_784f43a0fb98row3_col48\" class=\"data row3 col48\" >0</td>\n",
       "                        <td id=\"T_80692706_8a80_11eb_b29e_784f43a0fb98row3_col49\" class=\"data row3 col49\" >1</td>\n",
       "                        <td id=\"T_80692706_8a80_11eb_b29e_784f43a0fb98row3_col50\" class=\"data row3 col50\" >0</td>\n",
       "                        <td id=\"T_80692706_8a80_11eb_b29e_784f43a0fb98row3_col51\" class=\"data row3 col51\" >0</td>\n",
       "                        <td id=\"T_80692706_8a80_11eb_b29e_784f43a0fb98row3_col52\" class=\"data row3 col52\" >1</td>\n",
       "            </tr>\n",
       "            <tr>\n",
       "                        <th id=\"T_80692706_8a80_11eb_b29e_784f43a0fb98level0_row4\" class=\"row_heading level0 row4\" >4</th>\n",
       "                        <td id=\"T_80692706_8a80_11eb_b29e_784f43a0fb98row4_col0\" class=\"data row4 col0\" >27</td>\n",
       "                        <td id=\"T_80692706_8a80_11eb_b29e_784f43a0fb98row4_col1\" class=\"data row4 col1\" >591</td>\n",
       "                        <td id=\"T_80692706_8a80_11eb_b29e_784f43a0fb98row4_col2\" class=\"data row4 col2\" >2</td>\n",
       "                        <td id=\"T_80692706_8a80_11eb_b29e_784f43a0fb98row4_col3\" class=\"data row4 col3\" >1</td>\n",
       "                        <td id=\"T_80692706_8a80_11eb_b29e_784f43a0fb98row4_col4\" class=\"data row4 col4\" >1</td>\n",
       "                        <td id=\"T_80692706_8a80_11eb_b29e_784f43a0fb98row4_col5\" class=\"data row4 col5\" >40</td>\n",
       "                        <td id=\"T_80692706_8a80_11eb_b29e_784f43a0fb98row4_col6\" class=\"data row4 col6\" >3</td>\n",
       "                        <td id=\"T_80692706_8a80_11eb_b29e_784f43a0fb98row4_col7\" class=\"data row4 col7\" >1</td>\n",
       "                        <td id=\"T_80692706_8a80_11eb_b29e_784f43a0fb98row4_col8\" class=\"data row4 col8\" >2</td>\n",
       "                        <td id=\"T_80692706_8a80_11eb_b29e_784f43a0fb98row4_col9\" class=\"data row4 col9\" >3468</td>\n",
       "                        <td id=\"T_80692706_8a80_11eb_b29e_784f43a0fb98row4_col10\" class=\"data row4 col10\" >16632</td>\n",
       "                        <td id=\"T_80692706_8a80_11eb_b29e_784f43a0fb98row4_col11\" class=\"data row4 col11\" >9</td>\n",
       "                        <td id=\"T_80692706_8a80_11eb_b29e_784f43a0fb98row4_col12\" class=\"data row4 col12\" >12</td>\n",
       "                        <td id=\"T_80692706_8a80_11eb_b29e_784f43a0fb98row4_col13\" class=\"data row4 col13\" >3</td>\n",
       "                        <td id=\"T_80692706_8a80_11eb_b29e_784f43a0fb98row4_col14\" class=\"data row4 col14\" >4</td>\n",
       "                        <td id=\"T_80692706_8a80_11eb_b29e_784f43a0fb98row4_col15\" class=\"data row4 col15\" >1</td>\n",
       "                        <td id=\"T_80692706_8a80_11eb_b29e_784f43a0fb98row4_col16\" class=\"data row4 col16\" >6</td>\n",
       "                        <td id=\"T_80692706_8a80_11eb_b29e_784f43a0fb98row4_col17\" class=\"data row4 col17\" >3</td>\n",
       "                        <td id=\"T_80692706_8a80_11eb_b29e_784f43a0fb98row4_col18\" class=\"data row4 col18\" >3</td>\n",
       "                        <td id=\"T_80692706_8a80_11eb_b29e_784f43a0fb98row4_col19\" class=\"data row4 col19\" >2</td>\n",
       "                        <td id=\"T_80692706_8a80_11eb_b29e_784f43a0fb98row4_col20\" class=\"data row4 col20\" >2</td>\n",
       "                        <td id=\"T_80692706_8a80_11eb_b29e_784f43a0fb98row4_col21\" class=\"data row4 col21\" >2</td>\n",
       "                        <td id=\"T_80692706_8a80_11eb_b29e_784f43a0fb98row4_col22\" class=\"data row4 col22\" >2</td>\n",
       "                        <td id=\"T_80692706_8a80_11eb_b29e_784f43a0fb98row4_col23\" class=\"data row4 col23\" >1</td>\n",
       "                        <td id=\"T_80692706_8a80_11eb_b29e_784f43a0fb98row4_col24\" class=\"data row4 col24\" >0</td>\n",
       "                        <td id=\"T_80692706_8a80_11eb_b29e_784f43a0fb98row4_col25\" class=\"data row4 col25\" >0</td>\n",
       "                        <td id=\"T_80692706_8a80_11eb_b29e_784f43a0fb98row4_col26\" class=\"data row4 col26\" >0</td>\n",
       "                        <td id=\"T_80692706_8a80_11eb_b29e_784f43a0fb98row4_col27\" class=\"data row4 col27\" >1</td>\n",
       "                        <td id=\"T_80692706_8a80_11eb_b29e_784f43a0fb98row4_col28\" class=\"data row4 col28\" >0</td>\n",
       "                        <td id=\"T_80692706_8a80_11eb_b29e_784f43a0fb98row4_col29\" class=\"data row4 col29\" >1</td>\n",
       "                        <td id=\"T_80692706_8a80_11eb_b29e_784f43a0fb98row4_col30\" class=\"data row4 col30\" >0</td>\n",
       "                        <td id=\"T_80692706_8a80_11eb_b29e_784f43a0fb98row4_col31\" class=\"data row4 col31\" >0</td>\n",
       "                        <td id=\"T_80692706_8a80_11eb_b29e_784f43a0fb98row4_col32\" class=\"data row4 col32\" >0</td>\n",
       "                        <td id=\"T_80692706_8a80_11eb_b29e_784f43a0fb98row4_col33\" class=\"data row4 col33\" >0</td>\n",
       "                        <td id=\"T_80692706_8a80_11eb_b29e_784f43a0fb98row4_col34\" class=\"data row4 col34\" >1</td>\n",
       "                        <td id=\"T_80692706_8a80_11eb_b29e_784f43a0fb98row4_col35\" class=\"data row4 col35\" >0</td>\n",
       "                        <td id=\"T_80692706_8a80_11eb_b29e_784f43a0fb98row4_col36\" class=\"data row4 col36\" >0</td>\n",
       "                        <td id=\"T_80692706_8a80_11eb_b29e_784f43a0fb98row4_col37\" class=\"data row4 col37\" >0</td>\n",
       "                        <td id=\"T_80692706_8a80_11eb_b29e_784f43a0fb98row4_col38\" class=\"data row4 col38\" >1</td>\n",
       "                        <td id=\"T_80692706_8a80_11eb_b29e_784f43a0fb98row4_col39\" class=\"data row4 col39\" >0</td>\n",
       "                        <td id=\"T_80692706_8a80_11eb_b29e_784f43a0fb98row4_col40\" class=\"data row4 col40\" >0</td>\n",
       "                        <td id=\"T_80692706_8a80_11eb_b29e_784f43a0fb98row4_col41\" class=\"data row4 col41\" >1</td>\n",
       "                        <td id=\"T_80692706_8a80_11eb_b29e_784f43a0fb98row4_col42\" class=\"data row4 col42\" >0</td>\n",
       "                        <td id=\"T_80692706_8a80_11eb_b29e_784f43a0fb98row4_col43\" class=\"data row4 col43\" >0</td>\n",
       "                        <td id=\"T_80692706_8a80_11eb_b29e_784f43a0fb98row4_col44\" class=\"data row4 col44\" >0</td>\n",
       "                        <td id=\"T_80692706_8a80_11eb_b29e_784f43a0fb98row4_col45\" class=\"data row4 col45\" >0</td>\n",
       "                        <td id=\"T_80692706_8a80_11eb_b29e_784f43a0fb98row4_col46\" class=\"data row4 col46\" >0</td>\n",
       "                        <td id=\"T_80692706_8a80_11eb_b29e_784f43a0fb98row4_col47\" class=\"data row4 col47\" >0</td>\n",
       "                        <td id=\"T_80692706_8a80_11eb_b29e_784f43a0fb98row4_col48\" class=\"data row4 col48\" >0</td>\n",
       "                        <td id=\"T_80692706_8a80_11eb_b29e_784f43a0fb98row4_col49\" class=\"data row4 col49\" >1</td>\n",
       "                        <td id=\"T_80692706_8a80_11eb_b29e_784f43a0fb98row4_col50\" class=\"data row4 col50\" >0</td>\n",
       "                        <td id=\"T_80692706_8a80_11eb_b29e_784f43a0fb98row4_col51\" class=\"data row4 col51\" >1</td>\n",
       "                        <td id=\"T_80692706_8a80_11eb_b29e_784f43a0fb98row4_col52\" class=\"data row4 col52\" >0</td>\n",
       "            </tr>\n",
       "    </tbody></table>"
      ],
      "text/plain": [
       "<pandas.io.formats.style.Styler at 0x7ff7919b5640>"
      ]
     },
     "execution_count": 296,
     "metadata": {},
     "output_type": "execute_result"
    }
   ],
   "source": [
    "data = pd.get_dummies(data) #we add a prefix for easier identification\n",
    "\n",
    "data.head().style"
   ]
  },
  {
   "cell_type": "code",
   "execution_count": 275,
   "metadata": {},
   "outputs": [
    {
     "data": {
      "text/html": [
       "<div>\n",
       "<style scoped>\n",
       "    .dataframe tbody tr th:only-of-type {\n",
       "        vertical-align: middle;\n",
       "    }\n",
       "\n",
       "    .dataframe tbody tr th {\n",
       "        vertical-align: top;\n",
       "    }\n",
       "\n",
       "    .dataframe thead th {\n",
       "        text-align: right;\n",
       "    }\n",
       "</style>\n",
       "<table border=\"1\" class=\"dataframe\">\n",
       "  <thead>\n",
       "    <tr style=\"text-align: right;\">\n",
       "      <th></th>\n",
       "      <th>Age</th>\n",
       "      <th>DailyRate</th>\n",
       "      <th>DistanceFromHome</th>\n",
       "      <th>Education</th>\n",
       "      <th>EnvironmentSatisfaction</th>\n",
       "      <th>HourlyRate</th>\n",
       "      <th>JobInvolvement</th>\n",
       "      <th>JobLevel</th>\n",
       "      <th>JobSatisfaction</th>\n",
       "      <th>MonthlyIncome</th>\n",
       "      <th>...</th>\n",
       "      <th>JobRole_Manufacturing Director</th>\n",
       "      <th>JobRole_Research Director</th>\n",
       "      <th>JobRole_Research Scientist</th>\n",
       "      <th>JobRole_Sales Executive</th>\n",
       "      <th>JobRole_Sales Representative</th>\n",
       "      <th>MaritalStatus_Divorced</th>\n",
       "      <th>MaritalStatus_Married</th>\n",
       "      <th>MaritalStatus_Single</th>\n",
       "      <th>OverTime_No</th>\n",
       "      <th>OverTime_Yes</th>\n",
       "    </tr>\n",
       "  </thead>\n",
       "  <tbody>\n",
       "    <tr>\n",
       "      <th>count</th>\n",
       "      <td>1470.000000</td>\n",
       "      <td>1470.000000</td>\n",
       "      <td>1470.000000</td>\n",
       "      <td>1470.000000</td>\n",
       "      <td>1470.000000</td>\n",
       "      <td>1470.000000</td>\n",
       "      <td>1470.000000</td>\n",
       "      <td>1470.000000</td>\n",
       "      <td>1470.000000</td>\n",
       "      <td>1470.000000</td>\n",
       "      <td>...</td>\n",
       "      <td>1470.000000</td>\n",
       "      <td>1470.000000</td>\n",
       "      <td>1470.000000</td>\n",
       "      <td>1470.000000</td>\n",
       "      <td>1470.000000</td>\n",
       "      <td>1470.000000</td>\n",
       "      <td>1470.000000</td>\n",
       "      <td>1470.000000</td>\n",
       "      <td>1470.000000</td>\n",
       "      <td>1470.000000</td>\n",
       "    </tr>\n",
       "    <tr>\n",
       "      <th>mean</th>\n",
       "      <td>36.923810</td>\n",
       "      <td>802.485714</td>\n",
       "      <td>9.192517</td>\n",
       "      <td>2.912925</td>\n",
       "      <td>2.721769</td>\n",
       "      <td>65.891156</td>\n",
       "      <td>2.729932</td>\n",
       "      <td>2.063946</td>\n",
       "      <td>2.728571</td>\n",
       "      <td>6502.931293</td>\n",
       "      <td>...</td>\n",
       "      <td>0.098639</td>\n",
       "      <td>0.054422</td>\n",
       "      <td>0.198639</td>\n",
       "      <td>0.221769</td>\n",
       "      <td>0.056463</td>\n",
       "      <td>0.222449</td>\n",
       "      <td>0.457823</td>\n",
       "      <td>0.319728</td>\n",
       "      <td>0.717007</td>\n",
       "      <td>0.282993</td>\n",
       "    </tr>\n",
       "    <tr>\n",
       "      <th>std</th>\n",
       "      <td>9.135373</td>\n",
       "      <td>403.509100</td>\n",
       "      <td>8.106864</td>\n",
       "      <td>1.024165</td>\n",
       "      <td>1.093082</td>\n",
       "      <td>20.329428</td>\n",
       "      <td>0.711561</td>\n",
       "      <td>1.106940</td>\n",
       "      <td>1.102846</td>\n",
       "      <td>4707.956783</td>\n",
       "      <td>...</td>\n",
       "      <td>0.298279</td>\n",
       "      <td>0.226925</td>\n",
       "      <td>0.399112</td>\n",
       "      <td>0.415578</td>\n",
       "      <td>0.230891</td>\n",
       "      <td>0.416033</td>\n",
       "      <td>0.498387</td>\n",
       "      <td>0.466530</td>\n",
       "      <td>0.450606</td>\n",
       "      <td>0.450606</td>\n",
       "    </tr>\n",
       "    <tr>\n",
       "      <th>min</th>\n",
       "      <td>18.000000</td>\n",
       "      <td>102.000000</td>\n",
       "      <td>1.000000</td>\n",
       "      <td>1.000000</td>\n",
       "      <td>1.000000</td>\n",
       "      <td>30.000000</td>\n",
       "      <td>1.000000</td>\n",
       "      <td>1.000000</td>\n",
       "      <td>1.000000</td>\n",
       "      <td>1009.000000</td>\n",
       "      <td>...</td>\n",
       "      <td>0.000000</td>\n",
       "      <td>0.000000</td>\n",
       "      <td>0.000000</td>\n",
       "      <td>0.000000</td>\n",
       "      <td>0.000000</td>\n",
       "      <td>0.000000</td>\n",
       "      <td>0.000000</td>\n",
       "      <td>0.000000</td>\n",
       "      <td>0.000000</td>\n",
       "      <td>0.000000</td>\n",
       "    </tr>\n",
       "    <tr>\n",
       "      <th>25%</th>\n",
       "      <td>30.000000</td>\n",
       "      <td>465.000000</td>\n",
       "      <td>2.000000</td>\n",
       "      <td>2.000000</td>\n",
       "      <td>2.000000</td>\n",
       "      <td>48.000000</td>\n",
       "      <td>2.000000</td>\n",
       "      <td>1.000000</td>\n",
       "      <td>2.000000</td>\n",
       "      <td>2911.000000</td>\n",
       "      <td>...</td>\n",
       "      <td>0.000000</td>\n",
       "      <td>0.000000</td>\n",
       "      <td>0.000000</td>\n",
       "      <td>0.000000</td>\n",
       "      <td>0.000000</td>\n",
       "      <td>0.000000</td>\n",
       "      <td>0.000000</td>\n",
       "      <td>0.000000</td>\n",
       "      <td>0.000000</td>\n",
       "      <td>0.000000</td>\n",
       "    </tr>\n",
       "    <tr>\n",
       "      <th>50%</th>\n",
       "      <td>36.000000</td>\n",
       "      <td>802.000000</td>\n",
       "      <td>7.000000</td>\n",
       "      <td>3.000000</td>\n",
       "      <td>3.000000</td>\n",
       "      <td>66.000000</td>\n",
       "      <td>3.000000</td>\n",
       "      <td>2.000000</td>\n",
       "      <td>3.000000</td>\n",
       "      <td>4919.000000</td>\n",
       "      <td>...</td>\n",
       "      <td>0.000000</td>\n",
       "      <td>0.000000</td>\n",
       "      <td>0.000000</td>\n",
       "      <td>0.000000</td>\n",
       "      <td>0.000000</td>\n",
       "      <td>0.000000</td>\n",
       "      <td>0.000000</td>\n",
       "      <td>0.000000</td>\n",
       "      <td>1.000000</td>\n",
       "      <td>0.000000</td>\n",
       "    </tr>\n",
       "    <tr>\n",
       "      <th>75%</th>\n",
       "      <td>43.000000</td>\n",
       "      <td>1157.000000</td>\n",
       "      <td>14.000000</td>\n",
       "      <td>4.000000</td>\n",
       "      <td>4.000000</td>\n",
       "      <td>83.750000</td>\n",
       "      <td>3.000000</td>\n",
       "      <td>3.000000</td>\n",
       "      <td>4.000000</td>\n",
       "      <td>8379.000000</td>\n",
       "      <td>...</td>\n",
       "      <td>0.000000</td>\n",
       "      <td>0.000000</td>\n",
       "      <td>0.000000</td>\n",
       "      <td>0.000000</td>\n",
       "      <td>0.000000</td>\n",
       "      <td>0.000000</td>\n",
       "      <td>1.000000</td>\n",
       "      <td>1.000000</td>\n",
       "      <td>1.000000</td>\n",
       "      <td>1.000000</td>\n",
       "    </tr>\n",
       "    <tr>\n",
       "      <th>max</th>\n",
       "      <td>60.000000</td>\n",
       "      <td>1499.000000</td>\n",
       "      <td>29.000000</td>\n",
       "      <td>5.000000</td>\n",
       "      <td>4.000000</td>\n",
       "      <td>100.000000</td>\n",
       "      <td>4.000000</td>\n",
       "      <td>5.000000</td>\n",
       "      <td>4.000000</td>\n",
       "      <td>19999.000000</td>\n",
       "      <td>...</td>\n",
       "      <td>1.000000</td>\n",
       "      <td>1.000000</td>\n",
       "      <td>1.000000</td>\n",
       "      <td>1.000000</td>\n",
       "      <td>1.000000</td>\n",
       "      <td>1.000000</td>\n",
       "      <td>1.000000</td>\n",
       "      <td>1.000000</td>\n",
       "      <td>1.000000</td>\n",
       "      <td>1.000000</td>\n",
       "    </tr>\n",
       "  </tbody>\n",
       "</table>\n",
       "<p>8 rows × 53 columns</p>\n",
       "</div>"
      ],
      "text/plain": [
       "               Age    DailyRate  DistanceFromHome    Education  \\\n",
       "count  1470.000000  1470.000000       1470.000000  1470.000000   \n",
       "mean     36.923810   802.485714          9.192517     2.912925   \n",
       "std       9.135373   403.509100          8.106864     1.024165   \n",
       "min      18.000000   102.000000          1.000000     1.000000   \n",
       "25%      30.000000   465.000000          2.000000     2.000000   \n",
       "50%      36.000000   802.000000          7.000000     3.000000   \n",
       "75%      43.000000  1157.000000         14.000000     4.000000   \n",
       "max      60.000000  1499.000000         29.000000     5.000000   \n",
       "\n",
       "       EnvironmentSatisfaction   HourlyRate  JobInvolvement     JobLevel  \\\n",
       "count              1470.000000  1470.000000     1470.000000  1470.000000   \n",
       "mean                  2.721769    65.891156        2.729932     2.063946   \n",
       "std                   1.093082    20.329428        0.711561     1.106940   \n",
       "min                   1.000000    30.000000        1.000000     1.000000   \n",
       "25%                   2.000000    48.000000        2.000000     1.000000   \n",
       "50%                   3.000000    66.000000        3.000000     2.000000   \n",
       "75%                   4.000000    83.750000        3.000000     3.000000   \n",
       "max                   4.000000   100.000000        4.000000     5.000000   \n",
       "\n",
       "       JobSatisfaction  MonthlyIncome  ...  JobRole_Manufacturing Director  \\\n",
       "count      1470.000000    1470.000000  ...                     1470.000000   \n",
       "mean          2.728571    6502.931293  ...                        0.098639   \n",
       "std           1.102846    4707.956783  ...                        0.298279   \n",
       "min           1.000000    1009.000000  ...                        0.000000   \n",
       "25%           2.000000    2911.000000  ...                        0.000000   \n",
       "50%           3.000000    4919.000000  ...                        0.000000   \n",
       "75%           4.000000    8379.000000  ...                        0.000000   \n",
       "max           4.000000   19999.000000  ...                        1.000000   \n",
       "\n",
       "       JobRole_Research Director  JobRole_Research Scientist  \\\n",
       "count                1470.000000                 1470.000000   \n",
       "mean                    0.054422                    0.198639   \n",
       "std                     0.226925                    0.399112   \n",
       "min                     0.000000                    0.000000   \n",
       "25%                     0.000000                    0.000000   \n",
       "50%                     0.000000                    0.000000   \n",
       "75%                     0.000000                    0.000000   \n",
       "max                     1.000000                    1.000000   \n",
       "\n",
       "       JobRole_Sales Executive  JobRole_Sales Representative  \\\n",
       "count              1470.000000                   1470.000000   \n",
       "mean                  0.221769                      0.056463   \n",
       "std                   0.415578                      0.230891   \n",
       "min                   0.000000                      0.000000   \n",
       "25%                   0.000000                      0.000000   \n",
       "50%                   0.000000                      0.000000   \n",
       "75%                   0.000000                      0.000000   \n",
       "max                   1.000000                      1.000000   \n",
       "\n",
       "       MaritalStatus_Divorced  MaritalStatus_Married  MaritalStatus_Single  \\\n",
       "count             1470.000000            1470.000000           1470.000000   \n",
       "mean                 0.222449               0.457823              0.319728   \n",
       "std                  0.416033               0.498387              0.466530   \n",
       "min                  0.000000               0.000000              0.000000   \n",
       "25%                  0.000000               0.000000              0.000000   \n",
       "50%                  0.000000               0.000000              0.000000   \n",
       "75%                  0.000000               1.000000              1.000000   \n",
       "max                  1.000000               1.000000              1.000000   \n",
       "\n",
       "       OverTime_No  OverTime_Yes  \n",
       "count  1470.000000   1470.000000  \n",
       "mean      0.717007      0.282993  \n",
       "std       0.450606      0.450606  \n",
       "min       0.000000      0.000000  \n",
       "25%       0.000000      0.000000  \n",
       "50%       1.000000      0.000000  \n",
       "75%       1.000000      1.000000  \n",
       "max       1.000000      1.000000  \n",
       "\n",
       "[8 rows x 53 columns]"
      ]
     },
     "execution_count": 275,
     "metadata": {},
     "output_type": "execute_result"
    }
   ],
   "source": [
    "data.describe()"
   ]
  },
  {
   "cell_type": "markdown",
   "metadata": {},
   "source": [
    "## ANALYSIS"
   ]
  },
  {
   "cell_type": "markdown",
   "metadata": {},
   "source": [
    "#### Factors affecting attrition rate\n",
    "Following I will use t-test for hypothesis testing of attrition rate"
   ]
  },
  {
   "cell_type": "code",
   "execution_count": 119,
   "metadata": {},
   "outputs": [
    {
     "data": {
      "text/plain": [
       "Ttest_indResult(statistic=-6.1786638353072165, pvalue=8.356308021103649e-10)"
      ]
     },
     "execution_count": 119,
     "metadata": {},
     "output_type": "execute_result"
    }
   ],
   "source": [
    "stats.ttest_ind(data['Age'][data['Attrition_Yes'] == 1],\n",
    "                data['Age'][data['Attrition_No'] == 1])"
   ]
  },
  {
   "cell_type": "code",
   "execution_count": 142,
   "metadata": {},
   "outputs": [
    {
     "data": {
      "text/plain": [
       "Ttest_indResult(statistic=-2.1740836777017747, pvalue=0.02985816066026497)"
      ]
     },
     "execution_count": 142,
     "metadata": {},
     "output_type": "execute_result"
    }
   ],
   "source": [
    "stats.ttest_ind(data['DailyRate'][data['Attrition_Yes'] == 1],\n",
    "                data['DailyRate'][data['Attrition_No'] == 1])"
   ]
  },
  {
   "cell_type": "code",
   "execution_count": 144,
   "metadata": {},
   "outputs": [
    {
     "data": {
      "text/plain": [
       "Ttest_indResult(statistic=-6.203935765608938, pvalue=7.14736398535381e-10)"
      ]
     },
     "execution_count": 144,
     "metadata": {},
     "output_type": "execute_result"
    }
   ],
   "source": [
    "stats.ttest_ind(data['DistanceFromHome'][data['Attrition_Yes'] == 1],\n",
    "                data['DistanceFromHome'][data['Attrition_No'] == 1])"
   ]
  },
  {
   "cell_type": "code",
   "execution_count": 145,
   "metadata": {},
   "outputs": [
    {
     "data": {
      "text/plain": [
       "Ttest_indResult(statistic=-1.202625515508589, pvalue=0.2293152033223043)"
      ]
     },
     "execution_count": 145,
     "metadata": {},
     "output_type": "execute_result"
    }
   ],
   "source": [
    "stats.ttest_ind(data['Education'][data['Attrition_Yes'] == 1],\n",
    "                data['Education'][data['Attrition_No'] == 1])"
   ]
  },
  {
   "cell_type": "code",
   "execution_count": 146,
   "metadata": {},
   "outputs": [
    {
     "data": {
      "text/plain": [
       "Ttest_indResult(statistic=-3.9862267630568273, pvalue=7.04306674173115e-05)"
      ]
     },
     "execution_count": 146,
     "metadata": {},
     "output_type": "execute_result"
    }
   ],
   "source": [
    "stats.ttest_ind(data['JobSatisfaction'][data['Attrition_Yes'] == 1],\n",
    "                data['JobSatisfaction'][data['Attrition_No'] == 1])"
   ]
  },
  {
   "cell_type": "code",
   "execution_count": 147,
   "metadata": {},
   "outputs": [
    {
     "data": {
      "text/plain": [
       "Ttest_indResult(statistic=-0.26228987349264493, pvalue=0.7931347689944243)"
      ]
     },
     "execution_count": 147,
     "metadata": {},
     "output_type": "execute_result"
    }
   ],
   "source": [
    "stats.ttest_ind(data['HourlyRate'][data['Attrition_Yes'] == 1],\n",
    "                data['HourlyRate'][data['Attrition_No'] == 1])"
   ]
  },
  {
   "cell_type": "code",
   "execution_count": 148,
   "metadata": {},
   "outputs": [
    {
     "data": {
      "text/plain": [
       "Ttest_indResult(statistic=-3.9818600026818496, pvalue=7.17233854936886e-05)"
      ]
     },
     "execution_count": 148,
     "metadata": {},
     "output_type": "execute_result"
    }
   ],
   "source": [
    "stats.ttest_ind(data['EnvironmentSatisfaction'][data['Attrition_Yes'] == 1],\n",
    "                data['EnvironmentSatisfaction'][data['Attrition_No'] == 1])"
   ]
  },
  {
   "cell_type": "code",
   "execution_count": 149,
   "metadata": {},
   "outputs": [
    {
     "data": {
      "text/plain": [
       "Ttest_indResult(statistic=-3.500510790079005, pvalue=0.00047826293353898653)"
      ]
     },
     "execution_count": 149,
     "metadata": {},
     "output_type": "execute_result"
    }
   ],
   "source": [
    "stats.ttest_ind(data['MaritalStatus_Married'][data['Attrition_Yes'] == 1],\n",
    "                data['MaritalStatus_Married'][data['Attrition_No'] == 1])"
   ]
  },
  {
   "cell_type": "code",
   "execution_count": 157,
   "metadata": {},
   "outputs": [
    {
     "data": {
      "text/plain": [
       "Ttest_indResult(statistic=-3.373811272740654, pvalue=0.0007606633914673146)"
      ]
     },
     "execution_count": 157,
     "metadata": {},
     "output_type": "execute_result"
    }
   ],
   "source": [
    "stats.ttest_ind(data['MaritalStatus_Divorced'][data['Attrition_Yes'] == 1],\n",
    "                data['MaritalStatus_Divorced'][data['Attrition_No'] == 1])"
   ]
  },
  {
   "cell_type": "code",
   "execution_count": 152,
   "metadata": {},
   "outputs": [
    {
     "data": {
      "text/plain": [
       "Ttest_indResult(statistic=6.82693084217278, pvalue=1.2657022689960556e-11)"
      ]
     },
     "execution_count": 152,
     "metadata": {},
     "output_type": "execute_result"
    }
   ],
   "source": [
    "stats.ttest_ind(data['MaritalStatus_Single'][data['Attrition_Yes'] == 1],\n",
    "                data['MaritalStatus_Single'][data['Attrition_No'] == 1])"
   ]
  },
  {
   "cell_type": "code",
   "execution_count": 297,
   "metadata": {},
   "outputs": [
    {
     "data": {
      "text/plain": [
       "Ttest_indResult(statistic=-6.232038413295282, pvalue=6.003185843641377e-10)"
      ]
     },
     "execution_count": 297,
     "metadata": {},
     "output_type": "execute_result"
    }
   ],
   "source": [
    "stats.ttest_ind(data['YearsInCurrentRole'][data['Attrition_Yes'] == 1],\n",
    "                data['YearsInCurrentRole'][data['Attrition_No'] == 1])"
   ]
  },
  {
   "cell_type": "code",
   "execution_count": 298,
   "metadata": {},
   "outputs": [
    {
     "data": {
      "text/plain": [
       "Ttest_indResult(statistic=-1.2657876620135298, pvalue=0.2057899591624936)"
      ]
     },
     "execution_count": 298,
     "metadata": {},
     "output_type": "execute_result"
    }
   ],
   "source": [
    "stats.ttest_ind(data['YearsSinceLastPromotion'][data['Attrition_Yes'] == 1],\n",
    "                data['YearsSinceLastPromotion'][data['Attrition_No'] == 1])"
   ]
  },
  {
   "cell_type": "code",
   "execution_count": 299,
   "metadata": {},
   "outputs": [
    {
     "data": {
      "text/plain": [
       "Ttest_indResult(statistic=-6.059068531868998, pvalue=1.7369867845242207e-09)"
      ]
     },
     "execution_count": 299,
     "metadata": {},
     "output_type": "execute_result"
    }
   ],
   "source": [
    "stats.ttest_ind(data['YearsWithCurrManager'][data['Attrition_Yes'] == 1],\n",
    "                data['YearsWithCurrManager'][data['Attrition_No'] == 1])"
   ]
  },
  {
   "cell_type": "code",
   "execution_count": 300,
   "metadata": {},
   "outputs": [
    {
     "data": {
      "text/plain": [
       "Ttest_indResult(statistic=-6.6522546135024445, pvalue=4.0618781112668525e-11)"
      ]
     },
     "execution_count": 300,
     "metadata": {},
     "output_type": "execute_result"
    }
   ],
   "source": [
    "stats.ttest_ind(data['TotalWorkingYears'][data['Attrition_Yes'] == 1],\n",
    "                data['TotalWorkingYears'][data['Attrition_No'] == 1])"
   ]
  },
  {
   "cell_type": "code",
   "execution_count": 227,
   "metadata": {},
   "outputs": [
    {
     "data": {
      "text/plain": [
       "Ttest_indResult(statistic=-5.1963086670254235, pvalue=2.3188716103863033e-07)"
      ]
     },
     "execution_count": 227,
     "metadata": {},
     "output_type": "execute_result"
    }
   ],
   "source": [
    "stats.ttest_ind(data['YearsAtCompany'][data['Attrition_Yes'] == 1],\n",
    "                data['YearsAtCompany'][data['Attrition_No'] == 1])"
   ]
  },
  {
   "cell_type": "markdown",
   "metadata": {},
   "source": [
    "#### Conclusion:\n",
    "From those results above, we find that factors that affect Attrition rate are Age, Distance from home, Job satisfaction, Environment Satisfaction, Marital Status, years in current role, years with current manager, total working years, years at company with significant statistic value and small p-value. From that we can also predict that employees will tend to leave within the first 5-7 years at the company"
   ]
  },
  {
   "cell_type": "markdown",
   "metadata": {},
   "source": [
    "#### Factors affecting Job Satisfaction "
   ]
  },
  {
   "cell_type": "code",
   "execution_count": 160,
   "metadata": {},
   "outputs": [
    {
     "data": {
      "text/plain": [
       "Ttest_indResult(statistic=0.9405008765145539, pvalue=0.3471154294975499)"
      ]
     },
     "execution_count": 160,
     "metadata": {},
     "output_type": "execute_result"
    }
   ],
   "source": [
    "stats.ttest_ind(data['JobSatisfaction'][data['OverTime_Yes'] == 1],\n",
    "                data['JobSatisfaction'][data['OverTime_No'] == 1])"
   ]
  },
  {
   "cell_type": "code",
   "execution_count": 170,
   "metadata": {},
   "outputs": [
    {
     "data": {
      "text/plain": [
       "Ttest_indResult(statistic=-0.8820573772989629, pvalue=0.3780123903833009)"
      ]
     },
     "execution_count": 170,
     "metadata": {},
     "output_type": "execute_result"
    }
   ],
   "source": [
    "stats.ttest_ind(data['JobSatisfaction'][data['MaritalStatus_Divorced'] == 1],\n",
    "                data['JobSatisfaction'][data['MaritalStatus_Single'] == 1])"
   ]
  },
  {
   "cell_type": "code",
   "execution_count": 171,
   "metadata": {},
   "outputs": [
    {
     "data": {
      "text/plain": [
       "Ttest_indResult(statistic=-0.2553050236436918, pvalue=0.798540124471651)"
      ]
     },
     "execution_count": 171,
     "metadata": {},
     "output_type": "execute_result"
    }
   ],
   "source": [
    "stats.ttest_ind(data['JobSatisfaction'][data['MaritalStatus_Divorced'] == 1],\n",
    "                data['JobSatisfaction'][data['MaritalStatus_Married'] == 1])"
   ]
  },
  {
   "cell_type": "code",
   "execution_count": 172,
   "metadata": {},
   "outputs": [
    {
     "data": {
      "text/plain": [
       "Ttest_indResult(statistic=0.787032573188391, pvalue=0.4314262398248284)"
      ]
     },
     "execution_count": 172,
     "metadata": {},
     "output_type": "execute_result"
    }
   ],
   "source": [
    "stats.ttest_ind(data['JobSatisfaction'][data['MaritalStatus_Single'] == 1],\n",
    "                data['JobSatisfaction'][data['MaritalStatus_Married'] == 1])"
   ]
  },
  {
   "cell_type": "code",
   "execution_count": 161,
   "metadata": {},
   "outputs": [
    {
     "data": {
      "text/plain": [
       "Ttest_indResult(statistic=1.170009321336445, pvalue=0.24220874120177302)"
      ]
     },
     "execution_count": 161,
     "metadata": {},
     "output_type": "execute_result"
    }
   ],
   "source": [
    "stats.ttest_ind(data['JobSatisfaction'][data['BusinessTravel_Travel_Frequently'] == 1],\n",
    "                data['JobSatisfaction'][data['BusinessTravel_Travel_Rarely'] == 1])"
   ]
  },
  {
   "cell_type": "code",
   "execution_count": 175,
   "metadata": {},
   "outputs": [
    {
     "data": {
      "text/plain": [
       "Ttest_indResult(statistic=-0.9396661857971161, pvalue=0.34757934517173794)"
      ]
     },
     "execution_count": 175,
     "metadata": {},
     "output_type": "execute_result"
    }
   ],
   "source": [
    "stats.ttest_ind(data['JobSatisfaction'][data['BusinessTravel_Travel_Rarely'] == 1],\n",
    "                data['JobSatisfaction'][data['BusinessTravel_Non-Travel'] == 1])"
   ]
  },
  {
   "cell_type": "code",
   "execution_count": 173,
   "metadata": {},
   "outputs": [
    {
     "data": {
      "text/plain": [
       "Ttest_indResult(statistic=-0.024922571941342356, pvalue=0.9801284204532157)"
      ]
     },
     "execution_count": 173,
     "metadata": {},
     "output_type": "execute_result"
    }
   ],
   "source": [
    "stats.ttest_ind(data['JobSatisfaction'][data['BusinessTravel_Travel_Frequently'] == 1],\n",
    "                data['JobSatisfaction'][data['BusinessTravel_Non-Travel'] == 1])"
   ]
  },
  {
   "cell_type": "code",
   "execution_count": 174,
   "metadata": {},
   "outputs": [
    {
     "data": {
      "text/plain": [
       "Ttest_indResult(statistic=-1.2747266777649473, pvalue=0.20260772654833753)"
      ]
     },
     "execution_count": 174,
     "metadata": {},
     "output_type": "execute_result"
    }
   ],
   "source": [
    "stats.ttest_ind(data['JobSatisfaction'][data['Gender_Female'] == 1],\n",
    "                data['JobSatisfaction'][data['Gender_Male'] == 1])"
   ]
  },
  {
   "cell_type": "code",
   "execution_count": 166,
   "metadata": {},
   "outputs": [
    {
     "data": {
      "text/plain": [
       "Ttest_indResult(statistic=-0.17676599117860678, pvalue=0.8597401815161476)"
      ]
     },
     "execution_count": 166,
     "metadata": {},
     "output_type": "execute_result"
    }
   ],
   "source": [
    "stats.ttest_ind(data['Age'][data['JobSatisfaction'] == 4],\n",
    "                data['Age'][data['JobSatisfaction'] == 1])"
   ]
  },
  {
   "cell_type": "code",
   "execution_count": 167,
   "metadata": {},
   "outputs": [
    {
     "data": {
      "text/plain": [
       "Ttest_indResult(statistic=-0.2603010968921465, pvalue=0.7947033555397193)"
      ]
     },
     "execution_count": 167,
     "metadata": {},
     "output_type": "execute_result"
    }
   ],
   "source": [
    "stats.ttest_ind(data['DistanceFromHome'][data['JobSatisfaction'] == 4],\n",
    "                data['DistanceFromHome'][data['JobSatisfaction'] == 1])"
   ]
  },
  {
   "cell_type": "code",
   "execution_count": 168,
   "metadata": {},
   "outputs": [
    {
     "data": {
      "text/plain": [
       "Ttest_indResult(statistic=-0.5461737368100514, pvalue=0.5851098145827469)"
      ]
     },
     "execution_count": 168,
     "metadata": {},
     "output_type": "execute_result"
    }
   ],
   "source": [
    "stats.ttest_ind(data['Education'][data['JobSatisfaction'] == 4],\n",
    "                data['Education'][data['JobSatisfaction'] == 1])"
   ]
  },
  {
   "cell_type": "markdown",
   "metadata": {},
   "source": [
    "#### Conclusion\n",
    "Looking at the values of statistic and p, we can conclude that factors that can affect job satisfaction of employees are overtime, gender, marital status (married VS single, and divorced VS single), business travel (frequently VS rately, and rarely VS non-travel). However, because the p-value are still quite large (> 0.2%) and statistic value is not significant, those factors seem to have low level of impact on the job satisfaction"
   ]
  }
 ],
 "metadata": {
  "kernelspec": {
   "display_name": "Python 3",
   "language": "python",
   "name": "python3"
  },
  "language_info": {
   "codemirror_mode": {
    "name": "ipython",
    "version": 3
   },
   "file_extension": ".py",
   "mimetype": "text/x-python",
   "name": "python",
   "nbconvert_exporter": "python",
   "pygments_lexer": "ipython3",
   "version": "3.8.3"
  }
 },
 "nbformat": 4,
 "nbformat_minor": 4
}
